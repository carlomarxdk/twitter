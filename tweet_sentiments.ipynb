{
 "cells": [
  {
   "cell_type": "code",
   "execution_count": 2,
   "metadata": {},
   "outputs": [],
   "source": [
    "import pandas as pd\n",
    "from collections import defaultdict\n",
    "import numpy as np\n",
    "import matplotlib.pyplot as plt\n",
    "\n",
    "import matplotlib.dates as md\n",
    "\n",
    "from itertools import count\n",
    "from collections import Counter\n",
    "import matplotlib\n",
    "\n",
    "from nltk.tokenize import RegexpTokenizer\n",
    "\n",
    "\n",
    "from time import mktime\n",
    "from datetime import datetime\n",
    "from datetime import timedelta\n"
   ]
  },
  {
   "cell_type": "code",
   "execution_count": 3,
   "metadata": {},
   "outputs": [],
   "source": [
    "import sys\n",
    "\n",
    "def parse(f,chunksize = 100000, cols = None, test_bool = False, dtype = None):\n",
    "    lines = 9041*1000\n",
    "    for i,gm_chunk in enumerate(pd.read_csv(\"../ira_tweets_csv_hashed.csv\",chunksize = chunksize, usecols = cols, dtype = dtype)):\n",
    "        f(gm_chunk)\n",
    "        if test_bool:\n",
    "            print('Done')\n",
    "            break\n",
    "        j = i*chunksize/lines\n",
    "        sys.stdout.write('\\r')\n",
    "        # the exact output you're looking for:\n",
    "        bar_int = int(j*20+1)\n",
    "        sys.stdout.write(\"[%-20s] %d%%\" % ('='*bar_int, int(j*100+1)))\n",
    "        sys.stdout.flush()"
   ]
  },
  {
   "cell_type": "code",
   "execution_count": 4,
   "metadata": {},
   "outputs": [
    {
     "name": "stdout",
     "output_type": "stream",
     "text": [
      "Done\n"
     ]
    },
    {
     "data": {
      "text/plain": [
       "'              tweetid                                             userid                                  user_display_name                                   user_screen_name user_reported_location user_profile_description  user_profile_url  follower_count  following_count account_creation_date account_language tweet_language                                         tweet_text        tweet_time tweet_client_name  in_reply_to_tweetid  in_reply_to_userid  quoted_tweet_tweetid  is_retweet  retweet_userid  retweet_tweetid  latitude  longitude  quote_count  reply_count  like_count  retweet_count hashtags                                          urls user_mentions  poll_choices\\n0  877919995476496385  249064136b1c5cb00a705316ab73dd9b53785748ab757f...  249064136b1c5cb00a705316ab73dd9b53785748ab757f...  249064136b1c5cb00a705316ab73dd9b53785748ab757f...         Москва, Россия    Я примерный семьянин!               NaN             132              120            2013-12-07               ru             ru  RT @ruopentwit: ⚡️У НАС НОВОЕ ВИДЕО! Американе...  2017-06-22 16:03         TweetDeck                  NaN                 NaN                   NaN        True    2.572896e+09     8.779172e+17       NaN        NaN            0            0           0              0       []  [http://ru-open.livejournal.com/374284.html]  [2572896396]           NaN'"
      ]
     },
     "execution_count": 4,
     "metadata": {},
     "output_type": "execute_result"
    }
   ],
   "source": [
    "global df_test\n",
    "def f(chunk):\n",
    "    global df_test\n",
    "    df_test = chunk\n",
    "\n",
    "parse(f, 2, test_bool = True)\n",
    "\n",
    "df_test[:1].to_string()"
   ]
  },
  {
   "cell_type": "markdown",
   "metadata": {},
   "source": [
    "# Sentiment Analysis"
   ]
  },
  {
   "cell_type": "code",
   "execution_count": 6,
   "metadata": {
    "colab": {},
    "colab_type": "code",
    "id": "EYDqvojRyZFb"
   },
   "outputs": [],
   "source": [
    "#import the dataset\n",
    "df_labmt = pd.read_csv(\"Data_Set_S1.txt\", delimiter = '\\t', header = 2)"
   ]
  },
  {
   "cell_type": "code",
   "execution_count": 7,
   "metadata": {
    "colab": {},
    "colab_type": "code",
    "id": "XqK1HBvEIsPj"
   },
   "outputs": [],
   "source": [
    "#create a dictionary with the words as keys\n",
    "#and their happiness_average as values\n",
    "havg_w = {w:v for w,v in zip(df_labmt['word'], df_labmt['happiness_average'])}"
   ]
  },
  {
   "cell_type": "code",
   "execution_count": 8,
   "metadata": {
    "colab": {},
    "colab_type": "code",
    "id": "6h9etSmgI6zl"
   },
   "outputs": [],
   "source": [
    "#function that returns the sentiment of a wordlist\n",
    "#if the wordlist is empty, than it will return\n",
    "#the type np.nan, which than wont be incorporated for calculating the mean\n",
    "\n",
    "#SENTIMENTS\n",
    "def h_avg(wordlist):\n",
    "    if len(wordlist) == 0:\n",
    "        return np.nan\n",
    "    else:\n",
    "      #np.nanmean calculates the mean without incorporating np.nan\n",
    "        return np.nanmean([havg_w.get(w, np.nan) for w in wordlist])"
   ]
  },
  {
   "cell_type": "code",
   "execution_count": 11,
   "metadata": {},
   "outputs": [
    {
     "name": "stdout",
     "output_type": "stream",
     "text": [
      "[====================] 100%"
     ]
    },
    {
     "data": {
      "text/plain": [
       "9041308"
      ]
     },
     "execution_count": 11,
     "metadata": {},
     "output_type": "execute_result"
    }
   ],
   "source": [
    "num_lines = 0\n",
    "\n",
    "def f(chunk):\n",
    "    global num_lines\n",
    "    num_lines = num_lines + len(chunk)\n",
    "    \n",
    "parse(f, 1000000, test_bool = False)\n",
    "num_lines"
   ]
  },
  {
   "cell_type": "code",
   "execution_count": 220,
   "metadata": {},
   "outputs": [
    {
     "name": "stdout",
     "output_type": "stream",
     "text": [
      "[====================] 100%"
     ]
    }
   ],
   "source": [
    "cols = ['tweet_language', 'account_language']\n",
    "\n",
    "langs = set()\n",
    "\n",
    "def f(chunk):\n",
    "    global langs\n",
    "    for t,a in zip(chunk['tweet_language'], chunk['account_language']):\n",
    "        langs.add(t)\n",
    "        langs.add(a)\n",
    "        \n",
    "parse(f, 1000000, cols = cols, test_bool = False)"
   ]
  },
  {
   "cell_type": "markdown",
   "metadata": {},
   "source": [
    "# creating large array 'sents' with all important data\n",
    "\n",
    "(including sentiments of tweets and profile desciption)"
   ]
  },
  {
   "cell_type": "code",
   "execution_count": 225,
   "metadata": {},
   "outputs": [],
   "source": [
    "langs_dict = {l:i for i,l in enumerate(list(langs))}"
   ]
  },
  {
   "cell_type": "code",
   "execution_count": 231,
   "metadata": {},
   "outputs": [
    {
     "data": {
      "text/plain": [
       "datetime.datetime(2009, 5, 9, 15, 59)"
      ]
     },
     "execution_count": 231,
     "metadata": {},
     "output_type": "execute_result"
    }
   ],
   "source": [
    "min_times = datetime(2009, 5, 9, 15, 59)\n",
    "min_times"
   ]
  },
  {
   "cell_type": "code",
   "execution_count": 243,
   "metadata": {},
   "outputs": [
    {
     "name": "stderr",
     "output_type": "stream",
     "text": [
      "/home/hurt0jan/anaconda3/lib/python3.6/site-packages/ipykernel_launcher.py:11: RuntimeWarning: Mean of empty slice\n",
      "  # This is added back by InteractiveShellApp.init_path()\n"
     ]
    },
    {
     "name": "stdout",
     "output_type": "stream",
     "text": [
      "[====================] 100%"
     ]
    }
   ],
   "source": [
    "tokenizer = RegexpTokenizer(r'\\w+')\n",
    "\n",
    "to_date_time = lambda t: datetime.strptime(t, '%Y-%m-%d %H:%M')\n",
    "\n",
    "\n",
    "cols = ['tweet_text', 'tweet_language', 'like_count', 'retweet_count', 'quote_count', 'reply_count', 'account_language', 'user_profile_description', 'tweet_time', 'follower_count']\n",
    "\n",
    "k = 0\n",
    "\n",
    "sents = np.zeros((num_lines + 1, 12))\n",
    "#tweets = []\n",
    "\n",
    "\n",
    "def f(chunk):\n",
    "    global k\n",
    "    global sents\n",
    "    \n",
    "    for t,lang,content,likes,retw,quotes,replys,ac_lang,desc, fol_count in zip(chunk['tweet_time'],chunk['tweet_language'], chunk['tweet_text'], chunk['like_count'], chunk['retweet_count'], chunk['quote_count'], chunk['reply_count'], chunk['account_language'], chunk['user_profile_description'], chunk['follower_count']):\n",
    "        k = k + 1\n",
    "        sents[k,0] = (to_date_time(t) - min_times).days\n",
    "        sents[k,1] = langs_dict[lang]\n",
    "        if type(content) != float and len(content) > 0:\n",
    "            words = [w.lower() for w in tokenizer.tokenize(content)]\n",
    "            sents[k,2] = len(words)\n",
    "            sents[k,3] = h_avg(words)\n",
    "            \n",
    "        sents[k,4] = likes\n",
    "        sents[k,5] = retw\n",
    "        sents[k,6] = quotes\n",
    "        sents[k,7] = replys\n",
    "            \n",
    "        sents[k,8] = langs_dict[ac_lang]\n",
    "        if type(desc) != float and len(desc) > 0:\n",
    "            words = [w.lower() for w in tokenizer.tokenize(desc)]\n",
    "            sents[k,9] = h_avg(words)\n",
    "            sents[k,10] = len(words)\n",
    "        \n",
    "        sents[k,11] = fol_count\n",
    "            \n",
    "        \n",
    "\n",
    "        \n",
    "        #tweets.extend([content])\n",
    "\n",
    "parse(f, 50000, cols = cols, test_bool = False)"
   ]
  },
  {
   "cell_type": "markdown",
   "metadata": {},
   "source": [
    "## save this array"
   ]
  },
  {
   "cell_type": "code",
   "execution_count": 248,
   "metadata": {},
   "outputs": [],
   "source": [
    "np.save(\"tweet_sentiments.npy\", sents)"
   ]
  },
  {
   "cell_type": "code",
   "execution_count": 5,
   "metadata": {},
   "outputs": [],
   "source": [
    "sents = np.load('tweet_sentiments.npy')"
   ]
  },
  {
   "cell_type": "code",
   "execution_count": 251,
   "metadata": {},
   "outputs": [],
   "source": []
  },
  {
   "cell_type": "code",
   "execution_count": 21,
   "metadata": {},
   "outputs": [],
   "source": [
    "def clean_nan_zeros(raw):\n",
    "    clean = raw[~np.isnan(raw)]\n",
    "    clean = clean[clean != 0]\n",
    "    return clean"
   ]
  },
  {
   "cell_type": "code",
   "execution_count": 22,
   "metadata": {},
   "outputs": [],
   "source": [
    "def clean_sents(raw_sents):\n",
    "    cleaned_sents = clean_nan_zeros(raw_sents)\n",
    "    cleaned_sents = cleaned_sents[cleaned_sents < 10]\n",
    "    return cleaned_sents"
   ]
  },
  {
   "cell_type": "code",
   "execution_count": 252,
   "metadata": {},
   "outputs": [],
   "source": [
    "tw_sents = clean_sents(sents[:,3])\n",
    "desc_sents = clean_sents(sents[:,9])"
   ]
  },
  {
   "cell_type": "code",
   "execution_count": 295,
   "metadata": {},
   "outputs": [
    {
     "data": {
      "text/plain": [
       "(7864581, 3686054)"
      ]
     },
     "execution_count": 295,
     "metadata": {},
     "output_type": "execute_result"
    }
   ],
   "source": [
    "len(tw_sents), len(desc_sents)"
   ]
  },
  {
   "cell_type": "code",
   "execution_count": 256,
   "metadata": {},
   "outputs": [
    {
     "data": {
      "text/plain": [
       "(5.196943870758352, 0.33854862686533915)"
      ]
     },
     "execution_count": 256,
     "metadata": {},
     "output_type": "execute_result"
    }
   ],
   "source": [
    "np.average(tw_sents), np.std(tw_sents)"
   ]
  },
  {
   "cell_type": "code",
   "execution_count": 257,
   "metadata": {},
   "outputs": [
    {
     "data": {
      "text/plain": [
       "(5.544027008321617, 0.6291511879991792)"
      ]
     },
     "execution_count": 257,
     "metadata": {},
     "output_type": "execute_result"
    }
   ],
   "source": [
    "np.average(desc_sents), np.std(desc_sents)"
   ]
  },
  {
   "cell_type": "code",
   "execution_count": 253,
   "metadata": {},
   "outputs": [
    {
     "data": {
      "text/plain": [
       "(array([1.740000e+02, 6.260000e+02, 2.316000e+03, 2.023000e+04,\n",
       "        2.233883e+06, 4.827472e+06, 7.248780e+05, 4.539800e+04,\n",
       "        8.556000e+03, 1.048000e+03]),\n",
       " array([1.3 , 2.02, 2.74, 3.46, 4.18, 4.9 , 5.62, 6.34, 7.06, 7.78, 8.5 ]),\n",
       " <a list of 10 Patch objects>)"
      ]
     },
     "execution_count": 253,
     "metadata": {},
     "output_type": "execute_result"
    },
    {
     "data": {
      "image/png": "[encoded data removed]",
      "text/plain": [
       "<Figure size 432x288 with 1 Axes>"
      ]
     },
     "metadata": {
      "needs_background": "light"
     },
     "output_type": "display_data"
    }
   ],
   "source": [
    "plt.hist(tw_sents)"
   ]
  },
  {
   "cell_type": "code",
   "execution_count": 254,
   "metadata": {},
   "outputs": [
    {
     "data": {
      "text/plain": [
       "(array([   7164.,    8885.,  120074.,  435069., 1201878., 1533166.,\n",
       "         209973.,   65942.,   90430.,   13473.]),\n",
       " array([2.75 , 3.317, 3.884, 4.451, 5.018, 5.585, 6.152, 6.719, 7.286,\n",
       "        7.853, 8.42 ]),\n",
       " <a list of 10 Patch objects>)"
      ]
     },
     "execution_count": 254,
     "metadata": {},
     "output_type": "execute_result"
    },
    {
     "data": {
      "image/png": "[encoded data removed]",
      "text/plain": [
       "<Figure size 432x288 with 1 Axes>"
      ]
     },
     "metadata": {
      "needs_background": "light"
     },
     "output_type": "display_data"
    }
   ],
   "source": [
    "plt.hist(desc_sents)"
   ]
  },
  {
   "cell_type": "code",
   "execution_count": 288,
   "metadata": {},
   "outputs": [],
   "source": [
    "#bins = np.linspace(0,10,1000)\n",
    "tw_hist, tw_bins = np.histogram(tw_sents, bins = np.linspace(0.01,10, 500))\n",
    "desc_hist, desc_bins = np.histogram(desc_sents, bins = np.linspace(0.01,10,100))"
   ]
  },
  {
   "cell_type": "code",
   "execution_count": 289,
   "metadata": {},
   "outputs": [
    {
     "data": {
      "text/plain": [
       "(0, 500000.0)"
      ]
     },
     "execution_count": 289,
     "metadata": {},
     "output_type": "execute_result"
    },
    {
     "data": {
      "image/png": "[encoded data removed]",
      "text/plain": [
       "<Figure size 432x288 with 1 Axes>"
      ]
     },
     "metadata": {
      "needs_background": "light"
     },
     "output_type": "display_data"
    }
   ],
   "source": [
    "plt.plot(tw_bins[1:], tw_hist, '.', color = 'blue')\n",
    "plt.plot(desc_bins[1:], desc_hist, '.', color = 'green' )\n",
    "plt.ylim((0,0.5e6))"
   ]
  },
  {
   "cell_type": "markdown",
   "metadata": {},
   "source": [
    "# Comparing sentiments of tweets (blue) and profiles (green)"
   ]
  },
  {
   "cell_type": "code",
   "execution_count": 294,
   "metadata": {},
   "outputs": [
    {
     "name": "stderr",
     "output_type": "stream",
     "text": [
      "/home/hurt0jan/anaconda3/lib/python3.6/site-packages/ipykernel_launcher.py:1: RuntimeWarning: divide by zero encountered in log\n",
      "  \"\"\"Entry point for launching an IPython kernel.\n",
      "/home/hurt0jan/anaconda3/lib/python3.6/site-packages/ipykernel_launcher.py:2: RuntimeWarning: divide by zero encountered in log\n",
      "  \n"
     ]
    },
    {
     "data": {
      "text/plain": [
       "[<matplotlib.lines.Line2D at 0x7fc299079cf8>]"
      ]
     },
     "execution_count": 294,
     "metadata": {},
     "output_type": "execute_result"
    },
    {
     "data": {
      "image/png": "[encoded data removed]",
      "text/plain": [
       "<Figure size 432x288 with 1 Axes>"
      ]
     },
     "metadata": {
      "needs_background": "light"
     },
     "output_type": "display_data"
    }
   ],
   "source": [
    "plt.plot(tw_bins[1:], np.log(tw_hist), '.', color = 'blue', alpha = 0.3)\n",
    "plt.plot(desc_bins[1:], np.log(desc_hist), '.', color = 'green', alpha = 0.3)"
   ]
  },
  {
   "cell_type": "markdown",
   "metadata": {},
   "source": [
    "# Heatmap: tweet-Sentiments to profile description sentiments"
   ]
  },
  {
   "cell_type": "code",
   "execution_count": 6,
   "metadata": {},
   "outputs": [],
   "source": [
    "raw_tw_sents = sents[:,3]\n",
    "raw_desc_sents = sents[:,9]"
   ]
  },
  {
   "cell_type": "code",
   "execution_count": 33,
   "metadata": {},
   "outputs": [
    {
     "name": "stderr",
     "output_type": "stream",
     "text": [
      "/home/hurt0jan/anaconda3/lib/python3.6/site-packages/ipykernel_launcher.py:9: RuntimeWarning: divide by zero encountered in log\n",
      "  if __name__ == '__main__':\n"
     ]
    },
    {
     "data": {
      "image/png": "[encoded data removed]",
      "text/plain": [
       "<Figure size 432x288 with 1 Axes>"
      ]
     },
     "metadata": {
      "needs_background": "light"
     },
     "output_type": "display_data"
    }
   ],
   "source": [
    "bins_x = np.linspace(0,10, 100)\n",
    "bins_y = np.linspace(0,10,1000)\n",
    "\n",
    "bins = np.meshgrid(bins_x, bins_y)\n",
    "heatmap, xedges, yedges = np.histogram2d(raw_desc_sents, raw_tw_sents, bins=[100,100], range = [[0, 10], [0, 10]])\n",
    "extent = [xedges[0], xedges[-1], yedges[0], yedges[-1]]\n",
    "\n",
    "plt.clf()\n",
    "plt.imshow(np.log(heatmap).T, extent=extent, origin='lower')\n",
    "\n",
    "plt.savefig('tw_ents-desc_sents.png', dpi = 300)\n",
    "plt.show()"
   ]
  },
  {
   "cell_type": "markdown",
   "metadata": {},
   "source": [
    "# Like distribution according to sentiments"
   ]
  },
  {
   "cell_type": "markdown",
   "metadata": {},
   "source": [
    "## Like distribution"
   ]
  },
  {
   "cell_type": "code",
   "execution_count": 34,
   "metadata": {},
   "outputs": [
    {
     "data": {
      "image/png": "[encoded data removed]",
      "text/plain": [
       "<Figure size 432x288 with 1 Axes>"
      ]
     },
     "metadata": {
      "needs_background": "light"
     },
     "output_type": "display_data"
    }
   ],
   "source": [
    "a = plt.hist(clean_nan_zeros(sents[:,4]), bins = np.linspace(0,100, 100))"
   ]
  },
  {
   "cell_type": "code",
   "execution_count": 36,
   "metadata": {},
   "outputs": [
    {
     "name": "stderr",
     "output_type": "stream",
     "text": [
      "/home/hurt0jan/anaconda3/lib/python3.6/site-packages/ipykernel_launcher.py:8: RuntimeWarning: divide by zero encountered in log\n",
      "  \n"
     ]
    },
    {
     "data": {
      "image/png": "[encoded data removed]",
      "text/plain": [
       "<Figure size 432x288 with 1 Axes>"
      ]
     },
     "metadata": {
      "needs_background": "light"
     },
     "output_type": "display_data"
    }
   ],
   "source": [
    "bins_x = np.linspace(0,10, 100)\n",
    "bins_y = np.linspace(0,10,1000)\n",
    "\n",
    "heatmap, xedges, yedges = np.histogram2d(raw_tw_sents, sents[:,4], bins=[100,100], range = [[0, 10], [0, 1000]])\n",
    "extent = [xedges[0], xedges[-1], yedges[0], yedges[-1]]\n",
    "\n",
    "plt.clf()\n",
    "plt.imshow(np.log(heatmap).T, extent=extent, origin='lower')\n",
    "plt.axis('auto')\n",
    "\n",
    "plt.savefig('sent-like-dist.png', dpi = 300)\n",
    "plt.show()"
   ]
  },
  {
   "cell_type": "code",
   "execution_count": 52,
   "metadata": {},
   "outputs": [],
   "source": [
    "likes_avg_sents = [np.average(heatmap[i]) for i in range(len(heatmap))]"
   ]
  },
  {
   "cell_type": "code",
   "execution_count": 55,
   "metadata": {},
   "outputs": [
    {
     "data": {
      "text/plain": [
       "[<matplotlib.lines.Line2D at 0x7f8fdb5605f8>]"
      ]
     },
     "execution_count": 55,
     "metadata": {},
     "output_type": "execute_result"
    },
    {
     "data": {
      "image/png": "[encoded data removed]",
      "text/plain": [
       "<Figure size 432x288 with 1 Axes>"
      ]
     },
     "metadata": {
      "needs_background": "light"
     },
     "output_type": "display_data"
    }
   ],
   "source": [
    "plt.plot(likes_avg_sents, '.')"
   ]
  },
  {
   "cell_type": "code",
   "execution_count": 209,
   "metadata": {},
   "outputs": [],
   "source": [
    "hist2,bins2 = np.histogram(sents_over2, bins = np.linspace(0,10,100))"
   ]
  },
  {
   "cell_type": "code",
   "execution_count": 210,
   "metadata": {},
   "outputs": [
    {
     "name": "stderr",
     "output_type": "stream",
     "text": [
      "/home/hurt0jan/anaconda3/lib/python3.6/site-packages/ipykernel_launcher.py:1: RuntimeWarning: divide by zero encountered in log\n",
      "  \"\"\"Entry point for launching an IPython kernel.\n",
      "/home/hurt0jan/anaconda3/lib/python3.6/site-packages/ipykernel_launcher.py:2: RuntimeWarning: divide by zero encountered in log\n",
      "  \n"
     ]
    },
    {
     "data": {
      "text/plain": [
       "[<matplotlib.lines.Line2D at 0x7fc299b49ef0>]"
      ]
     },
     "execution_count": 210,
     "metadata": {},
     "output_type": "execute_result"
    },
    {
     "data": {
      "image/png": "[encoded data removed]",
      "text/plain": [
       "<Figure size 432x288 with 1 Axes>"
      ]
     },
     "metadata": {
      "needs_background": "light"
     },
     "output_type": "display_data"
    }
   ],
   "source": [
    "plt.plot(bins[1:], np.log(hist), '.', alpha = 0.5, color = 'orange')\n",
    "plt.plot(bins2[1:], np.log(hist2), 'x', color = 'black', ms = 2, alpha = 0.5)"
   ]
  },
  {
   "cell_type": "code",
   "execution_count": 189,
   "metadata": {},
   "outputs": [
    {
     "data": {
      "text/plain": [
       "(array([1106999,  901300,  784336, ...,       0,       0,       0]),\n",
       " array([5.25252525, 4.88948895, 5.15951595, ..., 7.88278828, 7.88378838,\n",
       "        0.        ]))"
      ]
     },
     "execution_count": 189,
     "metadata": {},
     "output_type": "execute_result"
    }
   ],
   "source": [
    "a_hist = np.argsort(hist)\n",
    "hist[a_hist[::-1]], bins[a_hist[::-1]]"
   ]
  },
  {
   "cell_type": "code",
   "execution_count": 195,
   "metadata": {},
   "outputs": [
    {
     "data": {
      "text/plain": [
       "5.196943870758352"
      ]
     },
     "execution_count": 195,
     "metadata": {},
     "output_type": "execute_result"
    }
   ],
   "source": [
    "np.average(cleaned_sents)"
   ]
  },
  {
   "cell_type": "code",
   "execution_count": 191,
   "metadata": {},
   "outputs": [
    {
     "data": {
      "text/plain": [
       "(array([296107,      0,      0]), array([0.e+00, 1.e+01, 1.e+02, 1.e+17]))"
      ]
     },
     "execution_count": 191,
     "metadata": {},
     "output_type": "execute_result"
    }
   ],
   "source": [
    "np.histogram(sents[:,0], bins = [0,10,100,1e17])"
   ]
  },
  {
   "cell_type": "code",
   "execution_count": 115,
   "metadata": {},
   "outputs": [
    {
     "data": {
      "text/plain": [
       "5.115"
      ]
     },
     "execution_count": 115,
     "metadata": {},
     "output_type": "execute_result"
    }
   ],
   "source": [
    "h_avg([\"hi\", \"this\", \"is\", \"jöaldfj\", \"no\"])"
   ]
  },
  {
   "cell_type": "code",
   "execution_count": null,
   "metadata": {},
   "outputs": [],
   "source": []
  },
  {
   "cell_type": "code",
   "execution_count": null,
   "metadata": {},
   "outputs": [],
   "source": []
  }
 ],
 "metadata": {
  "kernelspec": {
   "display_name": "Python 3",
   "language": "python",
   "name": "python3"
  },
  "language_info": {
   "codemirror_mode": {
    "name": "ipython",
    "version": 3
   },
   "file_extension": ".py",
   "mimetype": "text/x-python",
   "name": "python",
   "nbconvert_exporter": "python",
   "pygments_lexer": "ipython3",
   "version": "3.6.6"
  }
 },
 "nbformat": 4,
 "nbformat_minor": 2
}
