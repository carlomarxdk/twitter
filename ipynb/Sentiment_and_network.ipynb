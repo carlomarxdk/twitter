{
 "cells": [
  {
   "cell_type": "markdown",
   "metadata": {},
   "source": [
    "# Notes\n",
    "This notebook is completely runnable, however, it will take quiet some time (maybe >1hour), as it will caculate the sentiment of every tweet and every tweet description.\n",
    "However, you can avoid that, by downloading the according data <a href = \"https://github.com/carlomarxdk/twitter/tree/master/ipynb/tweet_sentiments.npy\">here</a>, and skipping this [section](#skip), and instead going directly to [this one](#Loading-Dataset-here)."
   ]
  },
  {
   "cell_type": "markdown",
   "metadata": {},
   "source": [
    "# Loading Packages"
   ]
  },
  {
   "cell_type": "code",
   "execution_count": 82,
   "metadata": {},
   "outputs": [],
   "source": [
    "import pandas as pd\n",
    "from collections import defaultdict\n",
    "import numpy as np\n",
    "import matplotlib.pyplot as plt\n",
    "\n",
    "import matplotlib.dates as md\n",
    "\n",
    "from itertools import count\n",
    "from collections import Counter\n",
    "import matplotlib\n",
    "\n",
    "from nltk.tokenize import RegexpTokenizer\n",
    "\n",
    "\n",
    "from time import mktime\n",
    "from datetime import datetime\n",
    "from datetime import timedelta\n",
    "\n",
    "from scipy import stats\n",
    "import scipy\n",
    "#scipy.ndimage.filters.gaussian_filter¶\n",
    "from scipy import ndimage\n",
    "from matplotlib.pyplot import cm\n",
    "\n",
    "import networkx as nx\n",
    "\n",
    "from sklearn.metrics import confusion_matrix"
   ]
  },
  {
   "cell_type": "markdown",
   "metadata": {},
   "source": [
    "# Defining parsing function"
   ]
  },
  {
   "cell_type": "code",
   "execution_count": 2,
   "metadata": {},
   "outputs": [],
   "source": [
    "import sys\n",
    "\n",
    "def parse(f,chunksize = 100000, cols = None, test_bool = False, dtype = None):\n",
    "    lines = 9041*1000\n",
    "    for i,gm_chunk in enumerate(pd.read_csv(\"../ira_tweets_csv_hashed.csv\",chunksize = chunksize, usecols = cols, dtype = dtype, low_memory = False)):\n",
    "        f(gm_chunk)\n",
    "        if test_bool:\n",
    "            print('Done')\n",
    "            break\n",
    "        j = i*chunksize/lines\n",
    "        sys.stdout.write('\\r')\n",
    "        # the exact output you're looking for:\n",
    "        bar_int = int(j*20+1)\n",
    "        sys.stdout.write(\"[%-20s] %d%%\" % ('='*bar_int, int(j*100+1)))\n",
    "        sys.stdout.flush()"
   ]
  },
  {
   "cell_type": "markdown",
   "metadata": {},
   "source": [
    "# Creating large array used for analyzing"
   ]
  },
  {
   "cell_type": "markdown",
   "metadata": {},
   "source": [
    "## Loading sentiment dataset"
   ]
  },
  {
   "cell_type": "code",
   "execution_count": 3,
   "metadata": {
    "colab": {},
    "colab_type": "code",
    "id": "EYDqvojRyZFb"
   },
   "outputs": [],
   "source": [
    "#import the dataset\n",
    "df_labmt = pd.read_csv(\"Data_Set_S1.txt\", delimiter = '\\t', header = 2)"
   ]
  },
  {
   "cell_type": "code",
   "execution_count": 4,
   "metadata": {
    "colab": {},
    "colab_type": "code",
    "id": "XqK1HBvEIsPj"
   },
   "outputs": [],
   "source": [
    "#create a dictionary with the words as keys\n",
    "#and their happiness_average as values\n",
    "havg_w = {w:v for w,v in zip(df_labmt['word'], df_labmt['happiness_average'])}"
   ]
  },
  {
   "cell_type": "code",
   "execution_count": 5,
   "metadata": {
    "colab": {},
    "colab_type": "code",
    "id": "6h9etSmgI6zl"
   },
   "outputs": [],
   "source": [
    "#function that returns the sentiment of a wordlist\n",
    "#if the wordlist is empty, than it will return\n",
    "#the type np.nan, which than wont be incorporated for calculating the mean\n",
    "\n",
    "#SENTIMENTS\n",
    "def h_avg(wordlist):\n",
    "    if len(wordlist) == 0:\n",
    "        return np.nan\n",
    "    else:\n",
    "      #np.nanmean calculates the mean without incorporating np.nan\n",
    "        return np.nanmean([havg_w.get(w, np.nan) for w in wordlist])"
   ]
  },
  {
   "cell_type": "markdown",
   "metadata": {},
   "source": [
    "#### Calculating number of lines and create langs set"
   ]
  },
  {
   "cell_type": "code",
   "execution_count": 6,
   "metadata": {},
   "outputs": [
    {
     "name": "stdout",
     "output_type": "stream",
     "text": [
      "[====================] 100%"
     ]
    }
   ],
   "source": [
    "cols = ['tweet_language', 'account_language']\n",
    "\n",
    "\n",
    "num_lines = 0\n",
    "langs = set()\n",
    "\n",
    "\n",
    "def f(chunk):\n",
    "    global langs\n",
    "    global num_lines\n",
    "    for t,a in zip(chunk['tweet_language'], chunk['account_language']):\n",
    "        num_lines = num_lines + 1\n",
    "        langs.add(t)\n",
    "        langs.add(a)\n",
    "    \n",
    "parse(f, 100000, test_bool = False)"
   ]
  },
  {
   "cell_type": "code",
   "execution_count": 7,
   "metadata": {},
   "outputs": [
    {
     "data": {
      "text/plain": [
       "9041308"
      ]
     },
     "execution_count": 7,
     "metadata": {},
     "output_type": "execute_result"
    }
   ],
   "source": [
    "num_lines"
   ]
  },
  {
   "cell_type": "markdown",
   "metadata": {},
   "source": [
    "Skip this section to save time and download the data <a href = \" \">here.</a>"
   ]
  },
  {
   "cell_type": "markdown",
   "metadata": {},
   "source": [
    "# creating large array 'sents' with all important data for sentiment analysis\n",
    "<a id='skip'></a>\n",
    "\n",
    "(including sentiments of tweets and profile desciption)"
   ]
  },
  {
   "cell_type": "code",
   "execution_count": 8,
   "metadata": {},
   "outputs": [],
   "source": [
    "langs_dict = {l:i for i,l in enumerate(list(langs))}"
   ]
  },
  {
   "cell_type": "code",
   "execution_count": 9,
   "metadata": {},
   "outputs": [],
   "source": [
    "min_times = datetime(2009, 5, 9, 15, 59)"
   ]
  },
  {
   "cell_type": "code",
   "execution_count": 10,
   "metadata": {},
   "outputs": [],
   "source": [
    "to_date_time = lambda t: datetime.strptime(t, '%Y-%m-%d %H:%M')"
   ]
  },
  {
   "cell_type": "code",
   "execution_count": 11,
   "metadata": {},
   "outputs": [
    {
     "name": "stderr",
     "output_type": "stream",
     "text": [
      "/home/hurt0jan/anaconda3/lib/python3.6/site-packages/ipykernel_launcher.py:11: RuntimeWarning: Mean of empty slice\n",
      "  # This is added back by InteractiveShellApp.init_path()\n"
     ]
    },
    {
     "name": "stdout",
     "output_type": "stream",
     "text": [
      "[====================] 100%"
     ]
    }
   ],
   "source": [
    "tokenizer = RegexpTokenizer(r'\\w+')\n",
    "\n",
    "cols = ['tweet_text', 'tweet_language', 'like_count', 'retweet_count', 'quote_count', 'reply_count', 'account_language', 'user_profile_description', 'tweet_time', 'follower_count', 'userid']\n",
    "\n",
    "k = 0\n",
    "\n",
    "sents = np.zeros((num_lines + 1, 13))\n",
    "#tweets = []\n",
    "\n",
    "\n",
    "def f(chunk):\n",
    "    global k\n",
    "    global sents\n",
    "    \n",
    "    for uid,t,lang,content,likes,retw,quotes,replys,ac_lang,desc, fol_count in zip(chunk['userid'],chunk['tweet_time'],chunk['tweet_language'], chunk['tweet_text'], chunk['like_count'], chunk['retweet_count'], chunk['quote_count'], chunk['reply_count'], chunk['account_language'], chunk['user_profile_description'], chunk['follower_count']):\n",
    "        k = k + 1\n",
    "        sents[k,0] = (to_date_time(t) - min_times).days\n",
    "        sents[k,1] = langs_dict[lang]\n",
    "        if type(content) != float and len(content) > 0:\n",
    "            words = [w.lower() for w in tokenizer.tokenize(content)]\n",
    "            sents[k,2] = len(words)\n",
    "            sents[k,3] = h_avg(words)\n",
    "            \n",
    "        sents[k,4] = likes\n",
    "        sents[k,5] = retw\n",
    "        sents[k,6] = quotes\n",
    "        sents[k,7] = replys\n",
    "            \n",
    "        sents[k,8] = langs_dict[ac_lang]\n",
    "        if type(desc) != float and len(desc) > 0:\n",
    "            words = [w.lower() for w in tokenizer.tokenize(desc)]\n",
    "            sents[k,9] = h_avg(words)\n",
    "            sents[k,10] = len(words)\n",
    "        \n",
    "        sents[k,11] = fol_count\n",
    "        sents[k,12] = sum(bytearray(str(uid), encoding = 'utf8'))\n",
    "            \n",
    "        \n",
    "\n",
    "        \n",
    "        #tweets.extend([content])\n",
    "\n",
    "parse(f, 10000, cols = cols, test_bool = False)"
   ]
  },
  {
   "cell_type": "code",
   "execution_count": 12,
   "metadata": {},
   "outputs": [],
   "source": [
    "np.save(\"tweet_sentiments\", sents)"
   ]
  },
  {
   "cell_type": "markdown",
   "metadata": {},
   "source": [
    "# Loading Dataset here\n",
    "<a id='loading'></a>"
   ]
  },
  {
   "cell_type": "code",
   "execution_count": 13,
   "metadata": {},
   "outputs": [],
   "source": [
    "sents = np.load('tweet_sentiments.npy')"
   ]
  },
  {
   "cell_type": "code",
   "execution_count": 14,
   "metadata": {},
   "outputs": [],
   "source": [
    "def clean_nan_zeros(raw):\n",
    "    clean = raw[~np.isnan(raw)]\n",
    "    clean = clean[clean != 0]\n",
    "    return clean"
   ]
  },
  {
   "cell_type": "markdown",
   "metadata": {},
   "source": [
    "# Basic stats like/retweet/follow-distribution"
   ]
  },
  {
   "cell_type": "markdown",
   "metadata": {},
   "source": [
    "This is intended to visualize the basic like/reetweets/follower distribution of the tweets/accounts in the dataset.\n",
    "\n",
    "Therefor, a log-log plot of thes distribtions was created:"
   ]
  },
  {
   "cell_type": "markdown",
   "metadata": {},
   "source": [
    "### #Tweets(#Likes)"
   ]
  },
  {
   "cell_type": "code",
   "execution_count": 15,
   "metadata": {},
   "outputs": [],
   "source": [
    "like_val, like_bins = np.histogram(clean_nan_zeros(sents[:,4]), bins = 200)"
   ]
  },
  {
   "cell_type": "code",
   "execution_count": 16,
   "metadata": {},
   "outputs": [
    {
     "data": {
      "image/png": "[encoded data removed]",
      "text/plain": [
       "<Figure size 432x288 with 1 Axes>"
      ]
     },
     "metadata": {
      "needs_background": "light"
     },
     "output_type": "display_data"
    }
   ],
   "source": [
    "plt.loglog(like_bins[1:], like_val, '.')\n",
    "\n",
    "plt.xlabel(\"#Likes\")\n",
    "plt.ylabel(\"#Tweets(#Likes)\")\n",
    "\n",
    "plt.tight_layout()\n",
    "\n",
    "plt.savefig(\"loglog-like-dist.png\", dpi = 400)"
   ]
  },
  {
   "cell_type": "markdown",
   "metadata": {},
   "source": [
    "### #tweets(#retweets)"
   ]
  },
  {
   "cell_type": "code",
   "execution_count": 17,
   "metadata": {},
   "outputs": [],
   "source": [
    "retw_val, retw_bins = np.histogram(clean_nan_zeros(sents[:,5]), bins = 100)"
   ]
  },
  {
   "cell_type": "code",
   "execution_count": 18,
   "metadata": {},
   "outputs": [
    {
     "data": {
      "image/png": "[encoded data removed]",
      "text/plain": [
       "<Figure size 432x288 with 1 Axes>"
      ]
     },
     "metadata": {
      "needs_background": "light"
     },
     "output_type": "display_data"
    }
   ],
   "source": [
    "plt.loglog(retw_bins[1:], retw_val, '.')\n",
    "\n",
    "plt.xlabel(\"#Retweets\")\n",
    "plt.ylabel(\"#Tweets(#Retweets)\")\n",
    "\n",
    "plt.tight_layout()\n",
    "\n",
    "plt.savefig(\"loglog-retw-dist.png\", dpi = 400)"
   ]
  },
  {
   "cell_type": "markdown",
   "metadata": {},
   "source": [
    "### #Accounts(#Followers)"
   ]
  },
  {
   "cell_type": "code",
   "execution_count": 19,
   "metadata": {},
   "outputs": [],
   "source": [
    "foll_val, foll_bins = np.histogram(clean_nan_zeros(sents[:,11]), bins = 100)"
   ]
  },
  {
   "cell_type": "code",
   "execution_count": 20,
   "metadata": {},
   "outputs": [
    {
     "data": {
      "image/png": "[encoded data removed]",
      "text/plain": [
       "<Figure size 432x288 with 1 Axes>"
      ]
     },
     "metadata": {
      "needs_background": "light"
     },
     "output_type": "display_data"
    }
   ],
   "source": [
    "plt.loglog(foll_bins[1:], foll_val, '.')\n",
    "\n",
    "plt.xlabel(\"#Followers\")\n",
    "plt.ylabel(\"#Accounts(#Followers)\")\n",
    "\n",
    "plt.tight_layout()\n",
    "\n",
    "plt.savefig(\"loglog-follow-dist.png\", dpi = 400)"
   ]
  },
  {
   "cell_type": "code",
   "execution_count": 21,
   "metadata": {},
   "outputs": [
    {
     "data": {
      "text/plain": [
       "LinregressResult(slope=-1.2844971996140933, intercept=15.642609365065711, rvalue=-0.8473726347973733, pvalue=2.469678913958819e-56, stderr=0.05720310308825702)"
      ]
     },
     "execution_count": 21,
     "metadata": {},
     "output_type": "execute_result"
    }
   ],
   "source": [
    "stats.linregress(np.log(like_bins[1:]), np.log(1+like_val))"
   ]
  },
  {
   "cell_type": "code",
   "execution_count": 22,
   "metadata": {},
   "outputs": [
    {
     "data": {
      "text/plain": [
       "LinregressResult(slope=-1.9026854471431087, intercept=21.50082973545731, rvalue=-0.9031979099612614, pvalue=8.943888752514483e-38, stderr=0.09133881603013037)"
      ]
     },
     "execution_count": 22,
     "metadata": {},
     "output_type": "execute_result"
    }
   ],
   "source": [
    "stats.linregress(np.log(retw_bins[1:]), np.log(1+retw_val))"
   ]
  },
  {
   "cell_type": "code",
   "execution_count": 23,
   "metadata": {},
   "outputs": [
    {
     "data": {
      "text/plain": [
       "LinregressResult(slope=-4.396851235574422, intercept=54.297791908227225, rvalue=-0.7800871730208131, pvalue=1.1277805973850757e-21, stderr=0.3562308385627087)"
      ]
     },
     "execution_count": 23,
     "metadata": {},
     "output_type": "execute_result"
    }
   ],
   "source": [
    "stats.linregress(np.log(foll_bins[1:]), np.log(1+foll_val))"
   ]
  },
  {
   "cell_type": "markdown",
   "metadata": {},
   "source": [
    "All 3 of these distribtuions seem to have the the form of a power law, which was expected.\n",
    "\n",
    "This was verfied doing a linear regression on this plots.\n",
    "\n",
    "The Retweets most seem to resemble a power law most closely, however, since this is not a maximum likelihood fit, this numbers should not be taken too seriously."
   ]
  },
  {
   "cell_type": "markdown",
   "metadata": {},
   "source": [
    "# Analyzing Tweet/Description sentiments\n",
    "\n",
    "Here i am creating a histogram of the number of tweets with a specific sentiment, with the intension to explore whether there is a difference between them.\n",
    "i.e.: are there more tweets with a lower sentiment, than profile descriptions? etc."
   ]
  },
  {
   "cell_type": "code",
   "execution_count": 24,
   "metadata": {},
   "outputs": [
    {
     "data": {
      "image/png": "[encoded data removed]",
      "text/plain": [
       "<Figure size 432x288 with 1 Axes>"
      ]
     },
     "metadata": {
      "needs_background": "light"
     },
     "output_type": "display_data"
    }
   ],
   "source": [
    "_ = plt.hist(clean_nan_zeros(sents[:,3]), bins = 100)\n",
    "plt.xlabel('Sentiment')\n",
    "plt.ylabel('Number of Tweets')\n",
    "plt.tight_layout()\n",
    "plt.savefig(\"tw_sentiment.png\", dpi = 400)"
   ]
  },
  {
   "cell_type": "code",
   "execution_count": 25,
   "metadata": {},
   "outputs": [
    {
     "data": {
      "image/png": "[encoded data removed]",
      "text/plain": [
       "<Figure size 432x288 with 1 Axes>"
      ]
     },
     "metadata": {
      "needs_background": "light"
     },
     "output_type": "display_data"
    }
   ],
   "source": [
    "_ = plt.hist(clean_nan_zeros(sents[:,9]), bins = 100)\n",
    "plt.xlabel('Sentiment')\n",
    "plt.ylabel('Number of Descriptions')\n",
    "plt.tight_layout()\n",
    "plt.savefig(\"desc_sentiment.png\", dpi = 400)"
   ]
  },
  {
   "cell_type": "code",
   "execution_count": 26,
   "metadata": {},
   "outputs": [],
   "source": [
    "def clean_sents(raw_sents):\n",
    "    cleaned_sents = clean_nan_zeros(raw_sents)\n",
    "    cleaned_sents = cleaned_sents[cleaned_sents < 10]\n",
    "    return cleaned_sents"
   ]
  },
  {
   "cell_type": "code",
   "execution_count": 27,
   "metadata": {},
   "outputs": [],
   "source": [
    "tw_sents = clean_sents(sents[:,3])\n",
    "desc_sents = clean_sents(sents[:,9])"
   ]
  },
  {
   "cell_type": "code",
   "execution_count": 28,
   "metadata": {},
   "outputs": [
    {
     "data": {
      "text/plain": [
       "(5.196943870758352, 0.33854862686533915)"
      ]
     },
     "execution_count": 28,
     "metadata": {},
     "output_type": "execute_result"
    }
   ],
   "source": [
    "np.average(tw_sents), np.std(tw_sents)"
   ]
  },
  {
   "cell_type": "code",
   "execution_count": 29,
   "metadata": {},
   "outputs": [
    {
     "data": {
      "text/plain": [
       "(5.544027008321617, 0.6291511879991792)"
      ]
     },
     "execution_count": 29,
     "metadata": {},
     "output_type": "execute_result"
    }
   ],
   "source": [
    "np.average(desc_sents), np.std(desc_sents)"
   ]
  },
  {
   "cell_type": "markdown",
   "metadata": {},
   "source": [
    "As can be seen, the difference is vanishable. i.e.: There is no significant difference between the 2 distribtions. (neither in form or mean/standard deviation)"
   ]
  },
  {
   "cell_type": "markdown",
   "metadata": {},
   "source": [
    "In the next cells i will clean the distribtions even further and normalize them (set the maximum to 1) to make the distribtuions directly compareable"
   ]
  },
  {
   "cell_type": "code",
   "execution_count": 30,
   "metadata": {},
   "outputs": [],
   "source": [
    "tw_hist, tw_bins = np.histogram(tw_sents, bins = np.linspace(0.01,10, 1000))\n",
    "desc_hist, desc_bins = np.histogram(desc_sents, bins = np.linspace(0.01,10,100))\n",
    "tw_hist_cleaned = np.array([sent if sent < 50000 else np.nan for sent in tw_hist])"
   ]
  },
  {
   "cell_type": "code",
   "execution_count": 31,
   "metadata": {},
   "outputs": [],
   "source": [
    "A = tw_hist_cleaned\n",
    "ok = ~np.isnan(A)\n",
    "xp = ok.ravel().nonzero()[0]\n",
    "fp = A[~np.isnan(A)]\n",
    "x  = np.isnan(A).ravel().nonzero()[0]\n",
    "\n",
    "A[np.isnan(A)] = np.interp(x, xp, fp)"
   ]
  },
  {
   "cell_type": "code",
   "execution_count": 32,
   "metadata": {},
   "outputs": [
    {
     "data": {
      "text/plain": [
       "[<matplotlib.lines.Line2D at 0x7f4cb7205048>]"
      ]
     },
     "execution_count": 32,
     "metadata": {},
     "output_type": "execute_result"
    },
    {
     "data": {
      "image/png": "[encoded data removed]",
      "text/plain": [
       "<Figure size 432x288 with 1 Axes>"
      ]
     },
     "metadata": {
      "needs_background": "light"
     },
     "output_type": "display_data"
    }
   ],
   "source": [
    "plt.plot(tw_bins[1:], A/max(A), color = 'blue')\n",
    "plt.plot(desc_bins[1:], desc_hist/max(desc_hist), color = 'green' )"
   ]
  },
  {
   "cell_type": "markdown",
   "metadata": {},
   "source": [
    "plotting this in plotly"
   ]
  },
  {
   "cell_type": "code",
   "execution_count": 33,
   "metadata": {},
   "outputs": [
    {
     "data": {
      "text/plain": [
       "'file:///mnt/c/Users/hurt0jan/Documents/projects/twitter/hist_sentiment_tw_desc.html'"
      ]
     },
     "execution_count": 33,
     "metadata": {},
     "output_type": "execute_result"
    }
   ],
   "source": [
    "import plotly.offline as py\n",
    "import plotly.graph_objs as go\n",
    "\n",
    "tw_sent_trace = go.Scatter(\n",
    "    x = tw_bins[1:],\n",
    "    y = A/max(A),\n",
    "    name = \"Tw\"\n",
    ")\n",
    "\n",
    "desc_sent_trace = go.Scatter(\n",
    "    x = desc_bins[1:],\n",
    "    y = desc_hist/max(desc_hist),\n",
    "    name = \"Desc\"\n",
    ")\n",
    "\n",
    "data = [tw_sent_trace, desc_sent_trace]\n",
    "\n",
    "layout = dict(title = \"Histogram of Sentiments of Tweets and Descriptions\",\n",
    "             xaxis = dict(title = \"Sentiment\"),\n",
    "             yaxis = dict(title = \"Count/Sentiment\"),\n",
    "             )\n",
    "\n",
    "fig = dict(data = data, layout = layout)\n",
    "\n",
    "py.plot(fig, filename = \"hist_sentiment_tw_desc.html\")"
   ]
  },
  {
   "cell_type": "markdown",
   "metadata": {},
   "source": [
    "Plot can be found here: https://carlomarxdk.github.io/twitter/plots/hist_sentiment_tw_desc.html"
   ]
  },
  {
   "cell_type": "markdown",
   "metadata": {},
   "source": [
    "# Relationshipt between tweet and description sentiments\n",
    "\n",
    "Another idea/theory explored is, whether there is a relationship between the sentiment of the profile descriptions and the sentiment of the tweets of the according accounts.\n",
    "\n",
    "To visualize this, a heatmap of the sentiment of a specific tweet, and the sentiment of the according account was created"
   ]
  },
  {
   "cell_type": "code",
   "execution_count": 34,
   "metadata": {},
   "outputs": [],
   "source": [
    "raw_tw_sents = sents[:,3]\n",
    "raw_desc_sents = sents[:,9]"
   ]
  },
  {
   "cell_type": "code",
   "execution_count": 35,
   "metadata": {},
   "outputs": [
    {
     "name": "stderr",
     "output_type": "stream",
     "text": [
      "/home/hurt0jan/anaconda3/lib/python3.6/site-packages/ipykernel_launcher.py:15: RuntimeWarning:\n",
      "\n",
      "divide by zero encountered in log\n",
      "\n"
     ]
    },
    {
     "data": {
      "image/png": "[encoded data removed]",
      "text/plain": [
       "<Figure size 720x720 with 1 Axes>"
      ]
     },
     "metadata": {
      "needs_background": "light"
     },
     "output_type": "display_data"
    }
   ],
   "source": [
    "plt.figure(figsize=(10,10))\n",
    "\n",
    "bins_x = np.linspace(0,10, 100)\n",
    "bins_y = np.linspace(0,10,1000)\n",
    "\n",
    "bins = np.meshgrid(bins_x, bins_y)\n",
    "heatmap, xedges, yedges = np.histogram2d(raw_desc_sents, raw_tw_sents, bins=[100,100], range = [[0, 10], [0, 10]])\n",
    "extent = [xedges[0], xedges[-1], yedges[0], yedges[-1]]\n",
    "\n",
    "\n",
    "\n",
    "plt.title(\"\", size = 20)\n",
    "\n",
    "plt.clf()\n",
    "plt.imshow(np.log(heatmap).T, extent=extent, origin='lower')\n",
    "\n",
    "plt.xlabel(\"Sentiment of Descriptions\", size = 16)\n",
    "plt.ylabel(\"Sentiment of Tweets\", size = 16)\n",
    "\n",
    "plt.tight_layout()\n",
    "\n",
    "plt.savefig('tw_sents-desc_sents.png', dpi = 300)\n",
    "plt.show()"
   ]
  },
  {
   "cell_type": "markdown",
   "metadata": {},
   "source": [
    "However, as can be seen in this heatmap, there does not seem to be a clear relationship between them.\n",
    "If there was a relationship between them, i expected there to be a line around the 1st median, however, there seem to be some horizontal and vertical lines, which clearly contradicts this theory. i.e.: no relationship between the tweet/description sentiment seems apparent."
   ]
  },
  {
   "cell_type": "markdown",
   "metadata": {},
   "source": [
    "# Average tweet sentiment to followers\n",
    "It was also explored whether there is a relationship between the average tweet-sentiment of a specific account and its number of followers.\n",
    "This was also done by creating a heatmap of the average tweets sentiment to the logarithm of the number of followers:"
   ]
  },
  {
   "cell_type": "code",
   "execution_count": 36,
   "metadata": {},
   "outputs": [],
   "source": [
    "uids = set(sents[:,12])"
   ]
  },
  {
   "cell_type": "code",
   "execution_count": 37,
   "metadata": {},
   "outputs": [],
   "source": [
    "avg_utw_sent = [np.nanmean(sents[sents[:,12] == i,3]) for i in uids]"
   ]
  },
  {
   "cell_type": "code",
   "execution_count": 38,
   "metadata": {},
   "outputs": [],
   "source": [
    "follow_uid = [max(sents[sents[:,12] ==i,11]) for i in uids]"
   ]
  },
  {
   "cell_type": "code",
   "execution_count": 39,
   "metadata": {},
   "outputs": [],
   "source": [
    "follow_uid = np.array(follow_uid)\n",
    "avg_utw_sent = np.array(avg_utw_sent)"
   ]
  },
  {
   "cell_type": "code",
   "execution_count": 40,
   "metadata": {},
   "outputs": [
    {
     "name": "stderr",
     "output_type": "stream",
     "text": [
      "/home/hurt0jan/anaconda3/lib/python3.6/site-packages/ipykernel_launcher.py:7: RuntimeWarning:\n",
      "\n",
      "divide by zero encountered in log\n",
      "\n",
      "/home/hurt0jan/anaconda3/lib/python3.6/site-packages/ipykernel_launcher.py:12: RuntimeWarning:\n",
      "\n",
      "divide by zero encountered in log\n",
      "\n",
      "/home/hurt0jan/anaconda3/lib/python3.6/site-packages/matplotlib/cbook/deprecation.py:107: MatplotlibDeprecationWarning:\n",
      "\n",
      "Adding an axes using the same arguments as a previous axes currently reuses the earlier instance.  In a future version, a new instance will always be created and returned.  Meanwhile, this warning can be suppressed, and the future behavior ensured, by passing a unique label to each axes instance.\n",
      "\n"
     ]
    },
    {
     "data": {
      "image/png": "[encoded data removed]",
      "text/plain": [
       "<Figure size 720x360 with 1 Axes>"
      ]
     },
     "metadata": {
      "needs_background": "light"
     },
     "output_type": "display_data"
    }
   ],
   "source": [
    "plt.figure(figsize=(10,5))\n",
    "\n",
    "bins_x = np.linspace(0,10, 100)\n",
    "bins_y = np.linspace(0,10,1000)\n",
    "\n",
    "bins = np.meshgrid(bins_x, bins_y)\n",
    "heatmap, xedges, yedges = np.histogram2d(avg_utw_sent, np.log(follow_uid), bins=[500,100], range = [[0, 10], [0, np.log(max(follow_uid))]])\n",
    "extent = [xedges[0], xedges[-1], yedges[0], yedges[-1]]\n",
    "\n",
    "\n",
    "plt.clf()\n",
    "plt.imshow(np.log(heatmap).T, extent=extent, origin='lower')\n",
    "\n",
    "plt.xlabel(\"average Sentiment of Tweets\", size = 16)\n",
    "plt.ylabel(\"log(#Followers)\", size = 16)\n",
    "plt.xlim((4.5,6))\n",
    "plt.axes().set_aspect(0.1)\n",
    "plt.tight_layout()\n",
    "\n",
    "#plt.savefig('tw_sents-desc_sents.png', dpi = 300)\n",
    "plt.show()"
   ]
  },
  {
   "cell_type": "markdown",
   "metadata": {},
   "source": [
    "Double checking by doing a linear regression."
   ]
  },
  {
   "cell_type": "code",
   "execution_count": 41,
   "metadata": {},
   "outputs": [
    {
     "data": {
      "text/plain": [
       "LinregressResult(slope=-0.27750376956454725, intercept=8.007646481659645, rvalue=-0.03406587335861972, pvalue=0.31332835559261446, stderr=0.2750712265916034)"
      ]
     },
     "execution_count": 41,
     "metadata": {},
     "output_type": "execute_result"
    }
   ],
   "source": [
    "stats.linregress(avg_utw_sent, np.log(1 + follow_uid))"
   ]
  },
  {
   "cell_type": "markdown",
   "metadata": {},
   "source": [
    "However, as can be seen in the heatmap, and the verification through the linear regression, there also seems to be no relationshib between those.\n",
    "i.e.: Accounts with a higher/lower average sentiment are not expected to have more followers."
   ]
  },
  {
   "cell_type": "markdown",
   "metadata": {},
   "source": [
    "# #Retweets/#Likes depending on sentiment\n",
    "It was also explored whether there is a relationship between the number of likes/retweets and the sentiment of a specific tweet.\n",
    "This was also done by using heatmaps"
   ]
  },
  {
   "cell_type": "code",
   "execution_count": 42,
   "metadata": {},
   "outputs": [
    {
     "name": "stderr",
     "output_type": "stream",
     "text": [
      "/home/hurt0jan/anaconda3/lib/python3.6/site-packages/ipykernel_launcher.py:6: RuntimeWarning:\n",
      "\n",
      "divide by zero encountered in log\n",
      "\n",
      "/home/hurt0jan/anaconda3/lib/python3.6/site-packages/ipykernel_launcher.py:10: RuntimeWarning:\n",
      "\n",
      "divide by zero encountered in log\n",
      "\n"
     ]
    },
    {
     "data": {
      "image/png": "[encoded data removed]",
      "text/plain": [
       "<Figure size 432x432 with 1 Axes>"
      ]
     },
     "metadata": {
      "needs_background": "light"
     },
     "output_type": "display_data"
    }
   ],
   "source": [
    "plt.figure(figsize=(6,6))\n",
    "\n",
    "bins_x = np.linspace(0,10, 100)\n",
    "bins_y = np.linspace(0,10,1000)\n",
    "\n",
    "heatmap, xedges, yedges = np.histogram2d(raw_tw_sents, np.log(sents[:,4]), bins=[100,1000], range = [[0, 10], [0, 14]])\n",
    "extent = [xedges[0], xedges[-1], yedges[0], yedges[-1]]\n",
    "\n",
    "plt.clf()\n",
    "plt.imshow(np.log(heatmap).T, extent=extent, origin='lower')\n",
    "plt.axis('auto')\n",
    "\n",
    "plt.xlabel(\"Sentiment\", size = 16)\n",
    "plt.ylabel(\"log(#Likes)\", size = 16)\n",
    "\n",
    "plt.tight_layout()\n",
    "\n",
    "plt.savefig('sent-like-dist.png', dpi = 400)\n",
    "plt.show()"
   ]
  },
  {
   "cell_type": "code",
   "execution_count": 43,
   "metadata": {},
   "outputs": [
    {
     "name": "stderr",
     "output_type": "stream",
     "text": [
      "/home/hurt0jan/anaconda3/lib/python3.6/site-packages/ipykernel_launcher.py:6: RuntimeWarning:\n",
      "\n",
      "divide by zero encountered in log\n",
      "\n",
      "/home/hurt0jan/anaconda3/lib/python3.6/site-packages/ipykernel_launcher.py:10: RuntimeWarning:\n",
      "\n",
      "divide by zero encountered in log\n",
      "\n"
     ]
    },
    {
     "data": {
      "image/png": "[encoded data removed]",
      "text/plain": [
       "<Figure size 432x432 with 1 Axes>"
      ]
     },
     "metadata": {
      "needs_background": "light"
     },
     "output_type": "display_data"
    }
   ],
   "source": [
    "plt.figure(figsize=(6,6))\n",
    "\n",
    "bins_x = np.linspace(0,10, 100)\n",
    "bins_y = np.linspace(0,10,1000)\n",
    "\n",
    "heatmap, xedges, yedges = np.histogram2d(raw_tw_sents, np.log(sents[:,5]), bins=[100,1000], range = [[0, 10], [0, 14]])\n",
    "extent = [xedges[0], xedges[-1], yedges[0], yedges[-1]]\n",
    "\n",
    "plt.clf()\n",
    "plt.imshow(np.log(heatmap).T, extent=extent, origin='lower')\n",
    "plt.axis('auto')\n",
    "\n",
    "plt.xlabel(\"Sentiment\", size = 16)\n",
    "plt.ylabel(\"log(#Retweets)\", size = 16)\n",
    "\n",
    "plt.tight_layout()\n",
    "\n",
    "plt.savefig('sent-retw-dist.png', dpi = 400)\n",
    "plt.show()"
   ]
  },
  {
   "cell_type": "markdown",
   "metadata": {},
   "source": [
    "Both distribtuions seem remarkabely similar, however there is nothing especially striking.\n",
    "The only thing which is kind of interesting is, that tweets that seem to be more popular are more likely to have a sentiment around $5.5$."
   ]
  },
  {
   "cell_type": "markdown",
   "metadata": {},
   "source": [
    "# Sentiment Analysis according to Days\n",
    "\n",
    "It was also explored, whether there is *anything* interesting about the average sentiment of each day. i.e.: are there specific drop offs in time, when the sentiment of the tweets is especially low/high? can those be related to specific events in real life?\n",
    "\n",
    "For this an interactive plotly-plot was created.\n",
    "Since the average sentiment/day of the troll network alone would not be very helpful, as a comparison baseline, the average sentiment of whole twitter (data retrieved from here https://hedonometer.org/about.html) was also plotted."
   ]
  },
  {
   "cell_type": "code",
   "execution_count": 44,
   "metadata": {},
   "outputs": [],
   "source": [
    "tw_days = sents[:,0]"
   ]
  },
  {
   "cell_type": "code",
   "execution_count": 45,
   "metadata": {},
   "outputs": [],
   "source": [
    "sents_by_day = []\n",
    "for d in range(int(np.max(tw_days))):\n",
    "    sents_by_day.append([raw_tw_sents[tw_days == d]])"
   ]
  },
  {
   "cell_type": "code",
   "execution_count": 46,
   "metadata": {},
   "outputs": [
    {
     "name": "stderr",
     "output_type": "stream",
     "text": [
      "/home/hurt0jan/anaconda3/lib/python3.6/site-packages/ipykernel_launcher.py:1: RuntimeWarning:\n",
      "\n",
      "Mean of empty slice\n",
      "\n"
     ]
    }
   ],
   "source": [
    "avg_sents_by_day = [np.nanmean(s) for s in sents_by_day]"
   ]
  },
  {
   "cell_type": "code",
   "execution_count": 47,
   "metadata": {},
   "outputs": [
    {
     "name": "stderr",
     "output_type": "stream",
     "text": [
      "/home/hurt0jan/anaconda3/lib/python3.6/site-packages/numpy/lib/nanfunctions.py:1545: RuntimeWarning:\n",
      "\n",
      "Degrees of freedom <= 0 for slice.\n",
      "\n"
     ]
    }
   ],
   "source": [
    "st_sents_by_day = [np.nanstd(s) for s in sents_by_day]"
   ]
  },
  {
   "cell_type": "code",
   "execution_count": 48,
   "metadata": {},
   "outputs": [],
   "source": [
    "df_sents = pd.read_csv('sumhapps.csv')\n",
    "to_date_time2 = lambda t: datetime.strptime(t, '%Y-%m-%d')"
   ]
  },
  {
   "cell_type": "code",
   "execution_count": 49,
   "metadata": {},
   "outputs": [],
   "source": [
    "troll_dates = [min_times + timedelta(days = i) for i in range(len(avg_sents_by_day))]"
   ]
  },
  {
   "cell_type": "code",
   "execution_count": 50,
   "metadata": {},
   "outputs": [],
   "source": [
    "total_tw_sents = [v for v in df_sents['value']]\n",
    "total_dates = [to_date_time2(date) for date in df_sents['date']]"
   ]
  },
  {
   "cell_type": "code",
   "execution_count": 51,
   "metadata": {},
   "outputs": [
    {
     "data": {
      "text/plain": [
       "'file:///mnt/c/Users/hurt0jan/Documents/projects/twitter/average_sentiment_per_day.html'"
      ]
     },
     "execution_count": 51,
     "metadata": {},
     "output_type": "execute_result"
    }
   ],
   "source": [
    "#import plotly.plotly as py\n",
    "#import plotly.graph_objs as go\n",
    "\n",
    "import plotly.offline as py\n",
    "import plotly.graph_objs as go\n",
    "\n",
    "troll_trace = go.Scatter(\n",
    "    y =  avg_sents_by_day,\n",
    "    x = troll_dates,\n",
    "    name = 'troll',\n",
    "    line = dict(\n",
    "        width = 1\n",
    "        )\n",
    "    )\n",
    "\n",
    "twitter_trace = go.Scatter(\n",
    "    y = total_tw_sents,\n",
    "    x = total_dates, \n",
    "    name = 'whole',\n",
    "    line = dict(\n",
    "        width = 1\n",
    "        )\n",
    "    )\n",
    "\n",
    "\n",
    "\n",
    "data = [troll_trace, twitter_trace]\n",
    "\n",
    "layout = dict(title = \"Average Sentiment of Tweets by Days\",\n",
    "             yaxis = dict(title = \"Average Sentiment\"),\n",
    "             )\n",
    "\n",
    "fig = go.Figure(data = data, layout = layout)\n",
    "\n",
    "py.plot(fig, filename = \"average_sentiment_per_day.html\")"
   ]
  },
  {
   "cell_type": "markdown",
   "metadata": {},
   "source": [
    "Plot can be found here: https://carlomarxdk.github.io/twitter/plots/average_sentiment_per_day.html"
   ]
  },
  {
   "cell_type": "markdown",
   "metadata": {},
   "source": [
    "### Make it easier to compare both time series"
   ]
  },
  {
   "cell_type": "code",
   "execution_count": 52,
   "metadata": {},
   "outputs": [],
   "source": [
    "norm_total_tw_sents = (np.array(total_tw_sents)-np.nanmean(total_tw_sents))/np.nanstd(total_tw_sents)\n",
    "norm_troll_sents = (np.array(avg_sents_by_day)-np.nanmean(avg_sents_by_day))/np.nanstd(avg_sents_by_day)"
   ]
  },
  {
   "cell_type": "code",
   "execution_count": 53,
   "metadata": {},
   "outputs": [
    {
     "data": {
      "text/plain": [
       "'file:///mnt/c/Users/hurt0jan/Documents/projects/twitter/norm_sentiment_per_day-filtered.html'"
      ]
     },
     "execution_count": 53,
     "metadata": {},
     "output_type": "execute_result"
    }
   ],
   "source": [
    "troll_trace = go.Scatter(\n",
    "    y = norm_troll_sents,\n",
    "    x = troll_dates,\n",
    "    name = 'troll',\n",
    "    line = dict(\n",
    "        width = 1\n",
    "        )\n",
    "    )\n",
    "\n",
    "twitter_trace = go.Scatter(\n",
    "    y = norm_total_tw_sents,\n",
    "    x = total_dates, \n",
    "    name = 'whole',\n",
    "    line = dict(\n",
    "        width = 1\n",
    "        )\n",
    "    )\n",
    "\n",
    "\n",
    "\n",
    "data = [troll_trace, twitter_trace]\n",
    "\n",
    "layout = dict(title = \"Average Sentiment of Tweets by Days\",\n",
    "             yaxis = dict(title = \"Average Sentiment\"),\n",
    "             )\n",
    "\n",
    "fig = go.Figure(data = data, layout = layout)\n",
    "\n",
    "py.plot(fig, filename = \"norm_sentiment_per_day.html\")"
   ]
  },
  {
   "cell_type": "markdown",
   "metadata": {},
   "source": [
    "Plot can be found here: https://carlomarxdk.github.io/twitter/plots/norm_sentiment_per_day.html"
   ]
  },
  {
   "cell_type": "code",
   "execution_count": 54,
   "metadata": {},
   "outputs": [
    {
     "data": {
      "text/plain": [
       "(0.045493405571311055, 0.1910462648291717)"
      ]
     },
     "execution_count": 54,
     "metadata": {},
     "output_type": "execute_result"
    }
   ],
   "source": [
    "np.nanstd(total_tw_sents), np.nanstd(avg_sents_by_day)"
   ]
  },
  {
   "cell_type": "code",
   "execution_count": 55,
   "metadata": {},
   "outputs": [
    {
     "data": {
      "text/plain": [
       "(6.024227675752179, 5.244332957851656)"
      ]
     },
     "execution_count": 55,
     "metadata": {},
     "output_type": "execute_result"
    }
   ],
   "source": [
    "np.nanmean(total_tw_sents), np.nanmean(avg_sents_by_day)"
   ]
  },
  {
   "cell_type": "markdown",
   "metadata": {},
   "source": [
    "In the beginning the sentiment of the troll network *'jumps around'* a  lot. \n",
    "This is due to the low number of tweets in this period.\n",
    "After that, the sentiment of the troll network is fairly well behaved, however, there still some significant differences to the average sentiment of whole twitter that stand out:\n",
    "\n",
    "In general, the sentiment of the network seems to be smaller, i.e. the tweets are more 'negative'.\n",
    "The sentiment for whole twitter seemt to change very slowly, and there are only very specific spikes, that mostly correspond either with holidays (thanksgiving, christmas) for *positive* spikes, or terror attacks for *negative* spikes.\n",
    "\n",
    "In comparison, in the sentiment time series of the troll network, there seem to be clear periods of lower sentiment (e.g.:10.May 2013 to 31.Jan 2014, or 19.Oct 2015 to the 27.Dec 2015). This may correspond to specific operations of the IRA, however it was not further investigated, so we were not able to definately verify that theory."
   ]
  },
  {
   "cell_type": "markdown",
   "metadata": {},
   "source": [
    "# Activity per day\n",
    "\n",
    "Another way, to detect certain influence operations of the troll network explored, was plotting the daily activity of the network.\n",
    "i.e.: The number of tweets per day of the whole network.\n",
    "This was also done by creating a plotly-plot."
   ]
  },
  {
   "cell_type": "code",
   "execution_count": 56,
   "metadata": {},
   "outputs": [
    {
     "data": {
      "text/plain": [
       "'file:///mnt/c/Users/hurt0jan/Documents/projects/twitter/daily_activity.html'"
      ]
     },
     "execution_count": 56,
     "metadata": {},
     "output_type": "execute_result"
    }
   ],
   "source": [
    "activity = go.Scatter(\n",
    "    y = np.array([len(s[0]) for s in sents_by_day], dtype = 'float'),\n",
    "    x = troll_dates,\n",
    "    name = 'troll',\n",
    "    line = dict(\n",
    "        width = 1\n",
    "        )\n",
    "    )\n",
    "\n",
    "data = [activity]\n",
    "\n",
    "layout = dict(title = \"Daily activity of the troll accounts\",\n",
    "              yaxis = dict(title = \"Number of Tweets/Day\"),\n",
    "              xaxis = dict(title = \"Date\")\n",
    "             )\n",
    "\n",
    "fig = go.Figure(data = data, layout = layout)\n",
    "\n",
    "py.plot(fig, filename = \"daily_activity.html\")"
   ]
  },
  {
   "cell_type": "markdown",
   "metadata": {},
   "source": [
    "Plot can be found here: https://carlomarxdk.github.io/twitter/plots/daily_activity.html"
   ]
  },
  {
   "cell_type": "markdown",
   "metadata": {},
   "source": [
    "Make it better to explore by creating a loglog plot."
   ]
  },
  {
   "cell_type": "code",
   "execution_count": 57,
   "metadata": {},
   "outputs": [
    {
     "name": "stderr",
     "output_type": "stream",
     "text": [
      "/home/hurt0jan/anaconda3/lib/python3.6/site-packages/ipykernel_launcher.py:2: RuntimeWarning:\n",
      "\n",
      "divide by zero encountered in log\n",
      "\n"
     ]
    },
    {
     "data": {
      "text/plain": [
       "'file:///mnt/c/Users/hurt0jan/Documents/projects/twitter/log-daily_activity.html'"
      ]
     },
     "execution_count": 57,
     "metadata": {},
     "output_type": "execute_result"
    }
   ],
   "source": [
    "activity = go.Scatter(\n",
    "    y = np.log(np.array([len(s[0]) for s in sents_by_day], dtype = 'float')),\n",
    "    x = troll_dates,\n",
    "    name = 'troll',\n",
    "    line = dict(\n",
    "        width = 1\n",
    "        )\n",
    "    )\n",
    "\n",
    "data = [activity]\n",
    "\n",
    "layout = dict(title = \"Daily activity of the troll accounts\",\n",
    "              yaxis = dict(title = \"log(Number of Tweets/Day)\"),\n",
    "              xaxis = dict(title = \"Date\")\n",
    "             )\n",
    "\n",
    "fig = go.Figure(data = data, layout = layout)\n",
    "\n",
    "py.plot(fig, filename = \"log-daily_activity.html\")"
   ]
  },
  {
   "cell_type": "markdown",
   "metadata": {},
   "source": [
    "Plot can be found here: https://carlomarxdk.github.io/twitter/plots/log-daily_activity.html"
   ]
  },
  {
   "cell_type": "markdown",
   "metadata": {},
   "source": [
    "The busiest year of the network was **2015**.\n",
    "It drops of quiet a bit **after 2015** and it had its biggest increase in activity around the **20.May.2014**.\n",
    "It drastically dropped off after in the **second half of 2017**, the exact reason for that is not clear to me.\n",
    "\n",
    "Other features about this time series that stand out are:\n",
    "- A dropoff to new year of 2016.\n",
    "- spike around the 20.August 2017, probably related to charlotsville.\n",
    "- A spike around the 6.October 2017, probably connected to the acess hollywood tapes\n",
    "\n",
    "So we were able to relate 2 spikes in activity to real world events."
   ]
  },
  {
   "cell_type": "markdown",
   "metadata": {},
   "source": [
    "# Building Network\n",
    "\n",
    "Here the network according the retweets/mentions/replys will be built and visualized."
   ]
  },
  {
   "cell_type": "markdown",
   "metadata": {},
   "source": [
    "## The threshold was used to build a subnetwork, according to the number of followers of the accounts\n",
    "\n",
    "To build the whole network, we set it to 0 here."
   ]
  },
  {
   "cell_type": "code",
   "execution_count": 61,
   "metadata": {},
   "outputs": [],
   "source": [
    "threshold = 0"
   ]
  },
  {
   "cell_type": "code",
   "execution_count": 62,
   "metadata": {},
   "outputs": [
    {
     "name": "stdout",
     "output_type": "stream",
     "text": [
      "[====================] 100%"
     ]
    }
   ],
   "source": [
    "global G\n",
    "G = nx.Graph()\n",
    "hashtag_set = set()\n",
    "def f(chunk):\n",
    "    for uid,fc,lang,disp_name,foll_count,url in zip(chunk['userid'], chunk['follower_count'], chunk['account_language'],chunk['user_display_name'],chunk['follower_count'], chunk['user_profile_url']):\n",
    "        if foll_count >= threshold: #****\n",
    "            G.add_node(uid, lang=lang, disp_name=disp_name, foll_count=foll_count, url=url)\n",
    "            \n",
    "parse(f, 40000,cols = ['userid', 'follower_count', 'account_language', 'user_display_name', 'follower_count', 'user_profile_url'], test_bool = False)    "
   ]
  },
  {
   "cell_type": "code",
   "execution_count": 63,
   "metadata": {},
   "outputs": [],
   "source": [
    "global nset\n",
    "nset = set(G.nodes())"
   ]
  },
  {
   "cell_type": "code",
   "execution_count": 64,
   "metadata": {},
   "outputs": [
    {
     "name": "stdout",
     "output_type": "stream",
     "text": [
      "[====================] 100%"
     ]
    }
   ],
   "source": [
    "cols = [\"in_reply_to_userid\", \"userid\", 'retweet_userid', 'user_mentions', 'follower_count']\n",
    "\n",
    "global id_rep_id\n",
    "id_rep_id = defaultdict(int)\n",
    "id_retw_id = defaultdict(int)\n",
    "id_ment_id = defaultdict(int)\n",
    "\n",
    "\n",
    "def f(chunk):\n",
    "    #rt_ids_set = rt_ids_set.union(chunk['retweet_tweetid'])\n",
    "    for uid, rpid,rtwid,mentids,foll in zip(chunk['userid'], chunk['in_reply_to_userid'], chunk['retweet_userid'], chunk['user_mentions'], chunk['follower_count']):\n",
    "        if foll >= threshold: #*****\n",
    "            if rpid in nset and uid in nset:\n",
    "                id_rep_id[(uid, rpid)] += 1\n",
    "            if rtwid in nset and uid in nset:\n",
    "                id_retw_id[(uid, rtwid)] += 1\n",
    "            if mentids == mentids:\n",
    "                mentids = mentids.replace(\"[\", '').replace(\"]\", '').split(',')\n",
    "                for mentid in mentids:\n",
    "                    if uid in nset and mentid in nset:\n",
    "                        id_ment_id[(uid,mentid)] += 1            \n",
    "\n",
    "parse(f, 100000, cols = cols, test_bool = False)   "
   ]
  },
  {
   "cell_type": "markdown",
   "metadata": {},
   "source": [
    "create a dictionary with all the adges and their according weight, so we dont have to access the networkx graph to often"
   ]
  },
  {
   "cell_type": "code",
   "execution_count": 65,
   "metadata": {},
   "outputs": [],
   "source": [
    "total_edge_dict = defaultdict(int)\n",
    "\n",
    "for e,w in id_retw_id.items():\n",
    "    total_edge_dict[e[0],e[1]] += w\n",
    "    #G.add_edge(e[0], e[1], weight = w)\n",
    "for e,w in id_rep_id.items():\n",
    "    #G.add_edge(e[0], e[1], weight = w)\n",
    "    total_edge_dict[e[0],e[1]] += w\n",
    "for e,w in id_ment_id.items(): \n",
    "    total_edge_dict[e[0],e[1]] += w\n",
    "    #G.add_edge(e[0], e[1], weight = w)"
   ]
  },
  {
   "cell_type": "markdown",
   "metadata": {},
   "source": [
    "add the edges to the network"
   ]
  },
  {
   "cell_type": "code",
   "execution_count": 66,
   "metadata": {},
   "outputs": [],
   "source": [
    "for e,w in total_edge_dict.items():\n",
    "    G.add_edge(e[0], e[1], weight = w)"
   ]
  },
  {
   "cell_type": "markdown",
   "metadata": {},
   "source": [
    "## Degree Distribution"
   ]
  },
  {
   "cell_type": "code",
   "execution_count": 67,
   "metadata": {},
   "outputs": [],
   "source": [
    "degrees = np.array(list(dict(G.degree()).values()))"
   ]
  },
  {
   "cell_type": "code",
   "execution_count": 68,
   "metadata": {},
   "outputs": [],
   "source": [
    "deg_val,deg_bins = np.histogram(degrees, bins = 50)"
   ]
  },
  {
   "cell_type": "code",
   "execution_count": 69,
   "metadata": {},
   "outputs": [
    {
     "data": {
      "image/png": "[encoded data removed]",
      "text/plain": [
       "<Figure size 360x360 with 1 Axes>"
      ]
     },
     "metadata": {
      "needs_background": "light"
     },
     "output_type": "display_data"
    }
   ],
   "source": [
    "plt.figure(figsize = (5,5))\n",
    "\n",
    "plt.xlabel(\"Degree\", size = 16)\n",
    "plt.ylabel(\"#Nodes\", size = 16)\n",
    "plt.tight_layout()\n",
    "\n",
    "plt.loglog(deg_bins[1:], deg_val, marker = '.')\n",
    "\n",
    "plt.savefig(\"loglog-degree-distribution.png\", dpi = 400)"
   ]
  },
  {
   "cell_type": "code",
   "execution_count": 70,
   "metadata": {},
   "outputs": [
    {
     "data": {
      "text/plain": [
       "LinregressResult(slope=-1.81307980074243, intercept=13.396759439877924, rvalue=-0.9091535212901567, pvalue=2.3901547101939697e-18, stderr=0.12520677566428134)"
      ]
     },
     "execution_count": 70,
     "metadata": {},
     "output_type": "execute_result"
    }
   ],
   "source": [
    "from scipy import stats\n",
    "\n",
    "stats.linregress(np.log(deg_bins[1:][deg_val != 0]), np.log(deg_val[deg_val != 0]))"
   ]
  },
  {
   "cell_type": "markdown",
   "metadata": {},
   "source": [
    "The degree distribution also follows a power law, which is also expected.\n",
    "This was verified again, by doing a linear regression."
   ]
  },
  {
   "cell_type": "markdown",
   "metadata": {},
   "source": [
    "## Plotting the network\n",
    "Since there are some unconnected nodes in the network, and this makes visualization difficult, just the biggest connected component was used for this."
   ]
  },
  {
   "cell_type": "code",
   "execution_count": 71,
   "metadata": {},
   "outputs": [],
   "source": [
    "comp_G = list(nx.connected_component_subgraphs(G))"
   ]
  },
  {
   "cell_type": "code",
   "execution_count": 72,
   "metadata": {},
   "outputs": [],
   "source": [
    "H = comp_G[0]\n",
    "pos = nx.spring_layout(H.to_undirected(), iterations = 200)"
   ]
  },
  {
   "cell_type": "code",
   "execution_count": 73,
   "metadata": {},
   "outputs": [],
   "source": [
    "import community\n",
    "\n",
    "partition = community.best_partition(H)"
   ]
  },
  {
   "cell_type": "code",
   "execution_count": 74,
   "metadata": {},
   "outputs": [
    {
     "name": "stdout",
     "output_type": "stream",
     "text": [
      "edge_traces loop done\n",
      "edge_trace finished\n",
      "edges finished\n",
      "node_trace finished\n"
     ]
    }
   ],
   "source": [
    "import plotly.offline as py\n",
    "import plotly.graph_objs as go\n",
    "from plotly.offline import download_plotlyjs, init_notebook_mode, plot, iplot\n",
    "\n",
    "edge_trace_x = []\n",
    "edge_trace_y = []\n",
    "\n",
    "widths = []\n",
    "weights_arr = [H[edge[0]][edge[1]]['weight'] for edge in H.edges()]\n",
    "max_weight = max(weights_arr)\n",
    "\n",
    "for edge in H.edges():\n",
    "    x0, y0 = pos[edge[0]]\n",
    "    x1, y1 = pos[edge[1]]\n",
    "    edge_trace_x += tuple([x0, x1, None])\n",
    "    edge_trace_y += tuple([y0, y1, None])\n",
    "    widths += tuple([np.log(1+H[edge[0]][edge[1]]['weight']/max_weight)/np.log(2)])\n",
    "    \n",
    "print(\"edge_traces loop done\")\n",
    "\n",
    "#use go.Scattergl for full network\n",
    "edge_trace = go.Scatter(\n",
    "    x = edge_trace_x,\n",
    "    y = edge_trace_y,\n",
    "    line = dict(\n",
    "        width = 0.1, #widths,\n",
    "        color='#000000'),\n",
    "    hoverinfo='none',\n",
    "    mode='lines')\n",
    "print(\"edge_trace finished\")\n",
    "\n",
    "\n",
    "\n",
    "    \n",
    "print(\"edges finished\")\n",
    "\n",
    "#use go.Scattergl for full network\n",
    "node_trace = go.Scatter(\n",
    "    x=[],\n",
    "    y=[],\n",
    "    text=[],\n",
    "    mode='markers',\n",
    "    hoverinfo='text',\n",
    "    marker=dict(\n",
    "        showscale=True,\n",
    "        # colorscale options\n",
    "        #'Greys' | 'YlGnBu' | 'Greens' | 'YlOrRd' | 'Bluered' | 'RdBu' |\n",
    "        #'Reds' | 'Blues' | 'Picnic' | 'Rainbow' | 'Portland' | 'Jet' |\n",
    "        #'Hot' | 'Blackbody' | 'Earth' | 'Electric' | 'Viridis' |\n",
    "        colorscale='Jet',\n",
    "        reversescale=True,\n",
    "        color = [],\n",
    "        size = [],\n",
    "        colorbar=dict(\n",
    "            thickness=5,\n",
    "            title='Languages',\n",
    "            xanchor='left',\n",
    "            titleside='right'\n",
    "        ),\n",
    "        #line=dict(width=2)\n",
    "    ))\n",
    "\n",
    "print(\"node_trace finished\")\n",
    "\n",
    "for node in H.nodes():\n",
    "    x, y = pos[node]\n",
    "    node_trace['x'] += tuple([x])\n",
    "    node_trace['y'] += tuple([y])"
   ]
  },
  {
   "cell_type": "code",
   "execution_count": 75,
   "metadata": {},
   "outputs": [],
   "source": [
    "langs = nx.get_node_attributes(H,'lang')\n",
    "groups = set(nx.get_node_attributes(H,'lang').values())\n",
    "mapping = dict(zip(sorted(groups),count()))\n",
    "\n",
    "\n",
    "disp_names = nx.get_node_attributes(H, 'disp_name')\n",
    "foll_counts = nx.get_node_attributes(H, 'foll_count')\n",
    "urls = nx.get_node_attributes(H, 'url')\n",
    "\n",
    "for i,node in enumerate(H.nodes()):\n",
    "    node_info = 'Follow.: ' + str(foll_counts[node]) + ', Language: ' + str(langs[node])\n",
    "    if foll_counts[node] > 5000:\n",
    "        node_info = node_info + ', Name: ' + str(disp_names[node]) \n",
    "    elif urls[node] == urls[node]:\n",
    "        node_info = node_info + ', Follow.:' + str(foll_counts[node])\n",
    "        \n",
    "    node_trace['text'] += tuple([node_info])\n",
    "    node_trace['marker']['size'] += tuple([max([3,np.log(1+foll_counts[node]/max(foll_counts.values()))/np.log(2)*70])])\n",
    "    node_trace['marker']['color'] += tuple([partition[node]])\n",
    "    #node_trace['marker']['color'] += tuple([mapping[langs[node]]])\n",
    "    #if color according to languages\n"
   ]
  },
  {
   "cell_type": "code",
   "execution_count": 76,
   "metadata": {},
   "outputs": [
    {
     "data": {
      "text/plain": [
       "'file:///mnt/c/Users/hurt0jan/Documents/projects/twitter/graph_communities.html'"
      ]
     },
     "execution_count": 76,
     "metadata": {},
     "output_type": "execute_result"
    }
   ],
   "source": [
    "fig = go.Figure(\n",
    "    data = [edge_trace, node_trace],\n",
    "    layout = go.Layout(\n",
    "    title = \"Network of accounts with more than 1000 followers, Colors based on Communities, Node size based on the number of log(Followers)\",\n",
    "    titlefont = dict(size=16),\n",
    "    hovermode = 'closest', \n",
    "    margin = dict(b = 20, l = 5, t = 40),\n",
    "    ) )\n",
    "\n",
    "plot(fig, filename = \"graph_communities.html\")"
   ]
  },
  {
   "cell_type": "markdown",
   "metadata": {},
   "source": [
    "Plots can be found here:\n",
    "- Whole network (uses WebGL, might take some time to load, an might look quiet ugly tbh):\n",
    "    - languages: https://carlomarxdk.github.io/twitter/plots/languages_full_network.html\n",
    "    - communities: https://carlomarxdk.github.io/twitter/plots/communities_full_network.html\n",
    "- subnetwork (just account > 1000 followers):\n",
    "    - languages: https://carlomarxdk.github.io/twitter/plots/languages_foll_1000.html\n",
    "    - communities: https://carlomarxdk.github.io/twitter/plots/communities_foll_1000.html"
   ]
  },
  {
   "cell_type": "markdown",
   "metadata": {},
   "source": [
    "The spring layout was chosen, since, even though we varied the parameters of the ForceAtlas2 quiet a bit, the spring_layout was the nicer layout in the end.\n",
    "\n",
    "The full (interactive-ish) plots of the network can be found on our website.\n",
    "\n",
    "Certain clusters are very apparent, and most of them seem to correspond to the language of the accounts. (this will be further discussed in the next sections)\n",
    "Especially the german and the spanish account seem to be very disconnected from the rest of the network and form their own subcommunities.\n",
    "\n",
    "Those subclusters are very connected, we could not extract any further structure from them.\n",
    "\n"
   ]
  },
  {
   "cell_type": "markdown",
   "metadata": {},
   "source": [
    "# Exploring the structure of the network even further:"
   ]
  },
  {
   "cell_type": "markdown",
   "metadata": {},
   "source": [
    "#### Comparison between communities according to languages and according to the best partition\n",
    "Firstly, we calculate the modularity according to the languages."
   ]
  },
  {
   "cell_type": "code",
   "execution_count": 78,
   "metadata": {},
   "outputs": [
    {
     "data": {
      "text/plain": [
       "0.08435802410031122"
      ]
     },
     "execution_count": 78,
     "metadata": {},
     "output_type": "execute_result"
    }
   ],
   "source": [
    "groups = set(nx.get_node_attributes(G,'lang').values())\n",
    "mapping = dict(zip(sorted(groups),count()))\n",
    "langpart = dict([(n,mapping[l]) for n,l in nx.get_node_attributes(G,'lang').items()])\n",
    "community.modularity(langpart,G)"
   ]
  },
  {
   "cell_type": "markdown",
   "metadata": {},
   "source": [
    "While the values is aboth $0$, which implies, that these are actual communities, it is not much bigger than $0$, so the languages are not a very good partition into communities.\n",
    "\n",
    "Than the louvain-algorithm was used to calculate the best partition of the network. And its modularity value was also calculated."
   ]
  },
  {
   "cell_type": "code",
   "execution_count": 79,
   "metadata": {},
   "outputs": [
    {
     "data": {
      "text/plain": [
       "0.43002311403360405"
      ]
     },
     "execution_count": 79,
     "metadata": {},
     "output_type": "execute_result"
    }
   ],
   "source": [
    "part = community.best_partition(G)\n",
    "community.modularity(part,G)"
   ]
  },
  {
   "cell_type": "markdown",
   "metadata": {},
   "source": [
    "This value is quiet a lot bigger than the one recieved from the partition according to the languages"
   ]
  },
  {
   "cell_type": "markdown",
   "metadata": {},
   "source": [
    "# Create confusion matrix of languages to communities (calculated by the louvain algorithm)\n",
    "This was done to further investigate, how good the languages partition the network in different communities."
   ]
  },
  {
   "cell_type": "code",
   "execution_count": 91,
   "metadata": {},
   "outputs": [],
   "source": [
    "node_langs = np.array([mapping[l] for l in nx.get_node_attributes(G,'lang').values()])\n",
    "node_comm = np.array(list(part.values()))"
   ]
  },
  {
   "cell_type": "code",
   "execution_count": 85,
   "metadata": {},
   "outputs": [
    {
     "data": {
      "text/plain": [
       "array([[  0,   0,   0,   0,   0,   0,   0,   0,   0,   0,   0,   0,   4,\n",
       "          0,   0,   0,   0,   0],\n",
       "       [  0,   0,   0,   0,   0,  68,   0,   0,   0,   0,   0,   0,   1,\n",
       "          0,   0,   0,   0,   0],\n",
       "       [ 91, 196,   7, 184, 911,   1,   0, 175,  39,   0,   0,   0,  33,\n",
       "          0,   0,   0,   0,   4],\n",
       "       [  1,   0,   0,   3,   0,   0,   0,   1,   0,   0,   0,   0,   4,\n",
       "          0,   0,   0,   0,   0],\n",
       "       [  0,   0,   0,   0,   1,   0,   0,   0,   0,  15,   0,   0,   0,\n",
       "         12,   0,   4,   4,   0],\n",
       "       [  0,   0,   0,   0,   0,   0,   0,   0,   0,   0,   0,   0,   0,\n",
       "          0,   0,   0,   0,   0],\n",
       "       [396, 145,  89, 240,   1,   0,   0,   2,   0,   0,  11,   4,  10,\n",
       "          0,   3,   0,   0,   0],\n",
       "       [  0,   0,   0,   0,   3,   0,   0,   0,   0,   0,   0,   0,   0,\n",
       "          0,   0,   0,   0,   0],\n",
       "       [  0,   0,   0,   0,   0,   0,   0,   0,   0,   0,   0,   0,   0,\n",
       "          0,   0,   0,   0,   0],\n",
       "       [  0,   0,   0,   0,   0,   0,   0,   0,   0,   0,   0,   0,   0,\n",
       "          0,   0,   0,   0,   0],\n",
       "       [  0,   0,   0,   0,   0,   0,   0,   0,   0,   0,   0,   0,   0,\n",
       "          0,   0,   0,   0,   0],\n",
       "       [  0,   0,   0,   0,   0,   0,   0,   0,   0,   0,   0,   0,   0,\n",
       "          0,   0,   0,   0,   0],\n",
       "       [  0,   0,   0,   0,   0,   0,   0,   0,   0,   0,   0,   0,   0,\n",
       "          0,   0,   0,   0,   0],\n",
       "       [  0,   0,   0,   0,   0,   0,   0,   0,   0,   0,   0,   0,   0,\n",
       "          0,   0,   0,   0,   0],\n",
       "       [  0,   0,   0,   0,   0,   0,   0,   0,   0,   0,   0,   0,   0,\n",
       "          0,   0,   0,   0,   0],\n",
       "       [  0,   0,   0,   0,   0,   0,   0,   0,   0,   0,   0,   0,   0,\n",
       "          0,   0,   0,   0,   0],\n",
       "       [  0,   0,   0,   0,   0,   0,   0,   0,   0,   0,   0,   0,   0,\n",
       "          0,   0,   0,   0,   0],\n",
       "       [  0,   0,   0,   0,   0,   0,   0,   0,   0,   0,   0,   0,   0,\n",
       "          0,   0,   0,   0,   0]])"
      ]
     },
     "execution_count": 85,
     "metadata": {},
     "output_type": "execute_result"
    }
   ],
   "source": [
    "A = confusion_matrix(node_langs[node_comm > 2], node_comm[node_comm > 2])\n",
    "\n",
    "comm_members = [sum(node_comm == c) for c in set(node_comm)]\n",
    "\n",
    "comm_members_dict = dict([(c,comm_members[i]) for i,c in enumerate(set(node_comm))])\n",
    "\n",
    "comm_more2 = np.array([ comm_members_dict[c] > 2 for c in node_comm])\n",
    "\n",
    "A = confusion_matrix(node_langs[comm_more2], node_comm[comm_more2])\n",
    "\n",
    "A"
   ]
  },
  {
   "cell_type": "code",
   "execution_count": 86,
   "metadata": {},
   "outputs": [
    {
     "data": {
      "text/plain": [
       "[('ar', 4),\n",
       " ('de', 69),\n",
       " ('en', 1641),\n",
       " ('en-gb', 9),\n",
       " ('es', 36),\n",
       " ('fr', 0),\n",
       " ('id', 0),\n",
       " ('it', 0),\n",
       " ('ru', 901),\n",
       " ('uk', 0),\n",
       " ('zh-cn', 3)]"
      ]
     },
     "execution_count": 86,
     "metadata": {},
     "output_type": "execute_result"
    }
   ],
   "source": [
    "[(l,sum(node_langs[comm_more2] == i)) for l,i in mapping.items()]"
   ]
  },
  {
   "cell_type": "code",
   "execution_count": 87,
   "metadata": {},
   "outputs": [
    {
     "name": "stderr",
     "output_type": "stream",
     "text": [
      "/home/hurt0jan/anaconda3/lib/python3.6/site-packages/ipykernel_launcher.py:1: RuntimeWarning:\n",
      "\n",
      "invalid value encountered in long_scalars\n",
      "\n"
     ]
    },
    {
     "data": {
      "text/plain": [
       "[1.0,\n",
       " 0.9855072463768116,\n",
       " 0.5551492992078001,\n",
       " 0.4444444444444444,\n",
       " 0.4166666666666667,\n",
       " nan,\n",
       " 0.43951165371809103,\n",
       " 1.0,\n",
       " nan,\n",
       " nan,\n",
       " nan,\n",
       " nan,\n",
       " nan,\n",
       " nan,\n",
       " nan,\n",
       " nan,\n",
       " nan,\n",
       " nan]"
      ]
     },
     "execution_count": 87,
     "metadata": {},
     "output_type": "execute_result"
    }
   ],
   "source": [
    "[max(A[i])/sum(A[i]) for i in range(len(A))]"
   ]
  },
  {
   "cell_type": "markdown",
   "metadata": {},
   "source": [
    "To get a sense of how good the languages correspond to the communities calculated through the louvain-algorithm, the confusion matrix was calculated (communities with less than 2 members were disregarded).\n",
    "For the 3 big language-communities, the following results were found\n",
    "\n",
    "  <b>'de':</b> $98\\%$ were in the same community.\n",
    "  This further verifies that the community of german-troll accounts is very clustered and fairly disconnected from the rest of the troll-network.\n",
    "</p>\n",
    "\n",
    "<p>\n",
    "  <b>'en':</b> $55\\%$ are in the same/biggest community.\n",
    "  However, the rest is not spaced out evenly, but there is a seccond subcommunity forming with, and together they correspond to $66\\%$ of the nodes with language 'en'.\n",
    "</p>\n",
    "\n",
    "<p>\n",
    "  <b>'es':</b> $44\\%$ are member of the biggest community.\n",
    "  However, there is a second, equally big community, which also has mostly just 'es' members, together they correspond to $75\\%$ of the 'es'-nodes.\n",
    "</p>\n",
    "\n",
    "<p>\n",
    "  <b>'ru':</b> $43\\%$ are member of the biggest community.\n",
    "  However, this community is overlapping quiet a lot with a 'en'-community ($396$ nodes are 'ru' and $91$ are 'en'.)\n",
    "  3 of the 4 other big 'ru' communites are also overlapping quiet a bit with 'en' communities, however, there is one community with $89$ members, that has only $7$ 'en' members."
   ]
  },
  {
   "cell_type": "markdown",
   "metadata": {},
   "source": [
    "## $C(k)$- plot\n",
    "Another way to visualize the underlying structure of the network is by plotting the local klustering coefficient $C$ in dependency of the degree $k$ of each node.\n",
    "This is than compared to the same plof of a random network with the same degree distribution."
   ]
  },
  {
   "cell_type": "code",
   "execution_count": 88,
   "metadata": {},
   "outputs": [],
   "source": [
    "expG = nx.expected_degree_graph(degrees)"
   ]
  },
  {
   "cell_type": "code",
   "execution_count": 89,
   "metadata": {},
   "outputs": [],
   "source": [
    "cl = nx.clustering(G)\n",
    "cl_coefs = np.array(list(cl.values()))\n",
    "\n",
    "expCl = nx.clustering(expG)\n",
    "expCl_coefs = np.array(list(expCl.values()))"
   ]
  },
  {
   "cell_type": "code",
   "execution_count": 90,
   "metadata": {},
   "outputs": [
    {
     "data": {
      "image/png": "[encoded data removed]",
      "text/plain": [
       "<Figure size 432x288 with 1 Axes>"
      ]
     },
     "metadata": {
      "needs_background": "light"
     },
     "output_type": "display_data"
    }
   ],
   "source": [
    "plt.plot(degrees, expCl_coefs, '.', color = 'green', ms = 2)\n",
    "plt.plot(degrees, cl_coefs, '.', ms = 2, color = 'rebeccapurple')\n",
    "\n",
    "plt.xlabel(\"Degree k\")\n",
    "plt.ylabel(\"Clustering coefficient C(k)\")\n",
    "\n",
    "plt.tight_layout()\n",
    "\n",
    "plt.savefig(\"cl-k.png\", dpi = 400)"
   ]
  }
 ],
 "metadata": {
  "kernelspec": {
   "display_name": "Python 3",
   "language": "python",
   "name": "python3"
  },
  "language_info": {
   "codemirror_mode": {
    "name": "ipython",
    "version": 3
   },
   "file_extension": ".py",
   "mimetype": "text/x-python",
   "name": "python",
   "nbconvert_exporter": "python",
   "pygments_lexer": "ipython3",
   "version": "3.6.6"
  }
 },
 "nbformat": 4,
 "nbformat_minor": 2
}
