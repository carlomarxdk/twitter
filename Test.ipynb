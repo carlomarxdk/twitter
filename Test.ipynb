{
 "cells": [
  {
   "cell_type": "code",
   "execution_count": 12,
   "metadata": {},
   "outputs": [],
   "source": [
    "#load dependencies\n",
    "import networkx as nx \n",
    "import pandas as pd\n",
    "import matplotlib.pyplot as plt\n",
    "import numpy as np"
   ]
  },
  {
   "cell_type": "markdown",
   "metadata": {},
   "source": [
    "## Extract the data"
   ]
  },
  {
   "cell_type": "code",
   "execution_count": 3,
   "metadata": {},
   "outputs": [],
   "source": [
    "#GLOBAL CONSTANTS\n",
    "FILE_PATH = 'Data/csv/ira_tweets_00%s.csv'\n",
    "FILE_INDEX = [str(i) for i in range(0,10)]"
   ]
  },
  {
   "cell_type": "code",
   "execution_count": 42,
   "metadata": {
    "scrolled": true
   },
   "outputs": [],
   "source": [
    "filename = FILE_PATH % FILE_INDEX[0]\n",
    "chunksize = 10000\n",
    "df = pd.read_csv(filename, chunksize=chunksize)"
   ]
  },
  {
   "cell_type": "code",
   "execution_count": null,
   "metadata": {},
   "outputs": [],
   "source": [
    "df = optimization(pd.read_csv(filename))"
   ]
  },
  {
   "cell_type": "code",
   "execution_count": 13,
   "metadata": {},
   "outputs": [],
   "source": [
    "#Calculate the memory use\n",
    "def mem_usage(pandas_obj):\n",
    "    if isinstance(pandas_obj,pd.DataFrame):\n",
    "        usage_b = pandas_obj.memory_usage(deep=True).sum()\n",
    "    else: # we assume if not a df it's a series\n",
    "        usage_b = pandas_obj.memory_usage(deep=True)\n",
    "    usage_mb = usage_b / 1024 ** 2 # convert bytes to megabytes\n",
    "    return \"{:03.2f} MB\".format(usage_mb)"
   ]
  },
  {
   "cell_type": "code",
   "execution_count": 35,
   "metadata": {},
   "outputs": [],
   "source": [
    "#Optimize data frame\n",
    "def optimization(df):\n",
    "    print('INTEGER OPTIMIZATION: ')\n",
    "    df_int = df.select_dtypes(include=['int64'])\n",
    "    converted_int = df_int.apply(pd.to_numeric,downcast='unsigned')\n",
    "\n",
    "    print('(before)', mem_usage(df_int))\n",
    "    print('(after)', mem_usage(converted_int))\n",
    "\n",
    "    compare_ints = pd.concat([df_int.dtypes,converted_int.dtypes],axis=1)\n",
    "\n",
    "    print('FLOAT OPTIMIZATION:')\n",
    "    df_float = df.select_dtypes(include=['float'])\n",
    "    converted_float = df_float.apply(pd.to_numeric,downcast='float')\n",
    "\n",
    "    print('(before)', mem_usage(df_float))\n",
    "    print('(after)', mem_usage(converted_float))\n",
    "\n",
    "    compare_floats = pd.concat([df_float.dtypes,converted_float.dtypes],axis=1)\n",
    "  \n",
    "\n",
    "    print('OBJECT OPTIMIZATION:')\n",
    "    df_obj = df.select_dtypes(include=['object']).copy()\n",
    "\n",
    "    converted_obj = pd.DataFrame()\n",
    "\n",
    "    for col in df_obj.columns:\n",
    "        num_unique_values = len(df_obj[col].unique())\n",
    "        num_total_values = len(df_obj[col])\n",
    "        if num_unique_values / num_total_values < 0.3:\n",
    "            converted_obj.loc[:,col] = df_obj[col].astype('category')\n",
    "        else:\n",
    "            converted_obj.loc[:,col] = df_obj[col]\n",
    "        \n",
    "    print(mem_usage(df_obj))\n",
    "    print(mem_usage(converted_obj))\n",
    "\n",
    "    compare_obj = pd.concat([df_obj.dtypes,converted_obj.dtypes],axis=1)\n",
    "\n",
    "\n",
    "    optimized_df = df.copy()\n",
    "    optimized_df[converted_int.columns] = converted_int\n",
    "    optimized_df[converted_float.columns] = converted_float\n",
    "    optimized_df[converted_obj.columns] = converted_obj\n",
    "\n",
    "    print('TOTAL OPTIMIZATION:')\n",
    "    print('(before)', mem_usage(df))\n",
    "    print('(after)', mem_usage(optimized_df))\n",
    "    return optimized_df"
   ]
  },
  {
   "cell_type": "code",
   "execution_count": 54,
   "metadata": {},
   "outputs": [
    {
     "name": "stdout",
     "output_type": "stream",
     "text": [
      "defaultdict(<class 'int'>, {'ru': 4853185, 'bg': 54690, 'en': 3261931, 'und': 230713, 'pl': 1921, 'de': 99332, 'is': 279, nan: 296106, 'uk': 82237, 'it': 20376, 'lt': 1453, 'tr': 3927, 'lv': 525, 'vi': 284, 'da': 3483, 'sr': 8045, 'in': 10325, 'es': 12802, 'tl': 6962, 'cs': 1070, 'ht': 6650, 'ar': 37245, 'hr': 297, 'et': 6146, 'fr': 12636, 'sl': 2347, 'cy': 2677, 'no': 1605, 'sv': 1863, 'nl': 3541, 'ro': 3161, 'pt': 2904, 'sk': 3343, 'eu': 297, 'hi': 311, 'ja': 2660, 'ko': 289, 'fi': 1794, 'bs': 615, 'hu': 519, 'fa': 37, 'hy': 23, 'ur': 17, 'id': 466, 'zh': 57, 'el': 35, 'ml': 2, 'th': 40, 'iw': 56, 'ne': 7, 'mr': 2, 'he': 2, 'bn': 3, 'km': 3, 'ta': 4, 'si': 5, 'iu': 1, 'ps': 1, 'ug': 1})\n"
     ]
    }
   ],
   "source": [
    "from collections import defaultdict\n",
    "\n",
    "lang_frq = defaultdict(int)\n",
    "\n",
    "cs = 10000\n",
    "for index in FILE_INDEX:\n",
    "    path = FILE_PATH %index\n",
    "    for chunk in pd.read_csv(path, chunksize = cs):\n",
    "        for c in chunk['tweet_language']:\n",
    "            lang_frq[c] +=1\n",
    "            \n",
    "print(lang_frq)"
   ]
  },
  {
   "cell_type": "code",
   "execution_count": 53,
   "metadata": {},
   "outputs": [
    {
     "name": "stdout",
     "output_type": "stream",
     "text": [
      "[('ru', 4853185), ('en', 3261931), (nan, 296106), ('und', 230713), ('de', 99332), ('uk', 82237), ('bg', 54690), ('ar', 37245), ('it', 20376), ('es', 12802), ('fr', 12636), ('in', 10325), ('sr', 8045), ('tl', 6962), ('ht', 6650), ('et', 6146), ('tr', 3927), ('nl', 3541), ('da', 3483), ('sk', 3343), ('ro', 3161), ('pt', 2904), ('cy', 2677), ('ja', 2660), ('sl', 2347), ('pl', 1921), ('sv', 1863), ('fi', 1794), ('no', 1605), ('lt', 1453), ('cs', 1070), ('bs', 615), ('lv', 525), ('hu', 519), ('id', 466), ('hi', 311), ('hr', 297), ('eu', 297), ('ko', 289), ('vi', 284), ('is', 279), ('zh', 57), ('iw', 56), ('th', 40), ('fa', 37), ('el', 35), ('hy', 23), ('ur', 17), ('ne', 7), ('si', 5), ('ta', 4), ('bn', 3), ('km', 3), ('ml', 2), ('mr', 2), ('he', 2), ('iu', 1), ('ps', 1), ('ug', 1)]\n"
     ]
    }
   ],
   "source": [
    "print(lang_frq)"
   ]
  },
  {
   "cell_type": "code",
   "execution_count": null,
   "metadata": {},
   "outputs": [],
   "source": []
  }
 ],
 "metadata": {
  "kernelspec": {
   "display_name": "Python 3",
   "language": "python",
   "name": "python3"
  },
  "language_info": {
   "codemirror_mode": {
    "name": "ipython",
    "version": 3
   },
   "file_extension": ".py",
   "mimetype": "text/x-python",
   "name": "python",
   "nbconvert_exporter": "python",
   "pygments_lexer": "ipython3",
   "version": "3.6.6"
  }
 },
 "nbformat": 4,
 "nbformat_minor": 2
}
