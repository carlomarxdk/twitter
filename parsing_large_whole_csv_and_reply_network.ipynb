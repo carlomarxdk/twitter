{
 "cells": [
  {
   "cell_type": "code",
   "execution_count": 152,
   "metadata": {},
   "outputs": [],
   "source": [
    "import pandas as pd\n",
    "from collections import defaultdict\n",
    "import numpy as np\n",
    "import matplotlib.pyplot as plt"
   ]
  },
  {
   "cell_type": "code",
   "execution_count": null,
   "metadata": {},
   "outputs": [],
   "source": []
  },
  {
   "cell_type": "code",
   "execution_count": 90,
   "metadata": {},
   "outputs": [],
   "source": [
    "header_list = [\"tweetid\",\"userid\",\"user_display_name\",\"user_screen_name\",\"user_reported_location\",\"user_profile_description\",\"user_profile_url\",\"follower_count\",\"following_count\",\"account_creation_date\",\"account_language\",\"tweet_language\",\"tweet_text\",\"tweet_time\",\"tweet_client_name\",\"in_reply_to_tweetid\",\"in_reply_to_userid\",\"quoted_tweet_tweetid\",\"is_retweet\",\"retweet_userid\",\"retweet_tweetid\",\"latitude\",\"longitude\",\"quote_count\",\"reply_count\",\"like_count\",\"retweet_count\",\"hashtags\",\"urls\",\"user_mentions\",\"poll_choices\"]\n",
    "header_dict = {val:i for i,val in enumerate(header_list)}"
   ]
  },
  {
   "cell_type": "code",
   "execution_count": 194,
   "metadata": {},
   "outputs": [],
   "source": [
    "import sys\n",
    "\n",
    "def parse(f,chunksize = 100000, cols = None, test_bool = False, dtype = None):\n",
    "    lines = 9041*1000\n",
    "    for i,gm_chunk in enumerate(pd.read_csv(\"ira_tweets_csv_hashed.csv\",chunksize = chunksize, usecols = cols, dtype = dtype)):\n",
    "        f(gm_chunk)\n",
    "        if test_bool:\n",
    "            print('Done')\n",
    "            break\n",
    "        j = i*chunksize/lines\n",
    "        sys.stdout.write('\\r')\n",
    "        # the exact output you're looking for:\n",
    "        bar_int = int(j*20)\n",
    "        sys.stdout.write(\"[%-20s] %d%%\" % ('='*bar_int, int(j*100 + 1)))\n",
    "        sys.stdout.flush()\n"
   ]
  },
  {
   "cell_type": "code",
   "execution_count": 92,
   "metadata": {},
   "outputs": [
    {
     "name": "stdout",
     "output_type": "stream",
     "text": [
      "Done\n"
     ]
    }
   ],
   "source": [
    "global userids\n",
    "userids = set()\n",
    "def f(gm_chunk):\n",
    "    global userids\n",
    "    userids = userids.union(set(gm_chunk[1]))\n",
    "    \n",
    "parse(f, 100, test_bool = True)"
   ]
  },
  {
   "cell_type": "code",
   "execution_count": 93,
   "metadata": {},
   "outputs": [
    {
     "name": "stdout",
     "output_type": "stream",
     "text": [
      "Done\n"
     ]
    }
   ],
   "source": [
    "global df_test\n",
    "def f(chunk):\n",
    "    global df_test\n",
    "    df_test = chunk\n",
    "\n",
    "parse(f, 2, test_bool = True)"
   ]
  },
  {
   "cell_type": "code",
   "execution_count": 175,
   "metadata": {},
   "outputs": [
    {
     "name": "stdout",
     "output_type": "stream",
     "text": [
      "        0       1                  2                 3                       4                         5                 6               7                8                      9                 10              11          12          13                 14                   15                  16                    17          18              19               20        21         22           23           24          25             26        27    28             29            30\n",
      "0  tweetid  userid  user_display_name  user_screen_name  user_reported_location  user_profile_description  user_profile_url  follower_count  following_count  account_creation_date  account_language  tweet_language  tweet_text  tweet_time  tweet_client_name  in_reply_to_tweetid  in_reply_to_userid  quoted_tweet_tweetid  is_retweet  retweet_userid  retweet_tweetid  latitude  longitude  quote_count  reply_count  like_count  retweet_count  hashtags  urls  user_mentions  poll_choices\n"
     ]
    }
   ],
   "source": [
    "print(df_test[:1].to_string())"
   ]
  },
  {
   "cell_type": "code",
   "execution_count": 121,
   "metadata": {},
   "outputs": [
    {
     "name": "stdout",
     "output_type": "stream",
     "text": [
      "Done\n"
     ]
    }
   ],
   "source": [
    "cols = header_dict['hashtags']\n",
    "global hashtag_set\n",
    "hashtag_set = set()\n",
    "def f(chunk):\n",
    "    global hashtag_set\n",
    "    hashtag_set = hashtag_set.union(set(str(h) for h in chunk[cols]))\n",
    "\n",
    "parse(f, 10000,cols = None, test_bool = True)    "
   ]
  },
  {
   "cell_type": "code",
   "execution_count": 149,
   "metadata": {},
   "outputs": [
    {
     "name": "stdout",
     "output_type": "stream",
     "text": [
      "[=================== ] 100%"
     ]
    }
   ],
   "source": [
    "cols = [header_dict['follower_count'], header_dict['userid']]\n",
    "global follower_dict\n",
    "follower_dict = defaultdict()\n",
    "def f(chunk):\n",
    "    global follower_list\n",
    "    for count,userid in zip(chunk['follower_count'], chunk['userid']):\n",
    "        follower_dict[userid] =  count\n",
    "\n",
    "parse(f, 10000,cols = cols, test_bool = False)    "
   ]
  },
  {
   "cell_type": "code",
   "execution_count": 163,
   "metadata": {},
   "outputs": [
    {
     "data": {
      "text/plain": [
       "[<matplotlib.lines.Line2D at 0x7f7d814565c0>]"
      ]
     },
     "execution_count": 163,
     "metadata": {},
     "output_type": "execute_result"
    },
    {
     "data": {
      "image/png": "[encoded data removed]",
      "text/plain": [
       "<Figure size 432x288 with 1 Axes>"
      ]
     },
     "metadata": {
      "needs_background": "light"
     },
     "output_type": "display_data"
    }
   ],
   "source": [
    "foll_count = np.array(list(follower_dict.values()))\n",
    "\n",
    "bins = np.exp( np.linspace(1,np.log(max(foll_count)), 100) )\n",
    "follower_hist, bins = np.histogram(foll_count, bins = bins)\n",
    "\n",
    "follower_hist = follower_hist/(bins[1:] - bins[:-1])\n",
    "\n",
    "plt.loglog(bins[1:], follower_hist, marker = '.', linestyle = ' ')"
   ]
  },
  {
   "cell_type": "code",
   "execution_count": 319,
   "metadata": {},
   "outputs": [
    {
     "data": {
      "text/plain": [
       "(25000, 270519.7640859086)"
      ]
     },
     "execution_count": 319,
     "metadata": {},
     "output_type": "execute_result"
    },
    {
     "data": {
      "image/png": "[encoded data removed]",
      "text/plain": [
       "<Figure size 432x288 with 1 Axes>"
      ]
     },
     "metadata": {
      "needs_background": "light"
     },
     "output_type": "display_data"
    }
   ],
   "source": [
    "_ = plt.hist(foll_count, bins = bins, cumulative= True)\n",
    "plt.ylim(3000,)\n",
    "plt.xlim(25000,)"
   ]
  },
  {
   "cell_type": "code",
   "execution_count": 320,
   "metadata": {},
   "outputs": [
    {
     "data": {
      "text/plain": [
       "277"
      ]
     },
     "execution_count": 320,
     "metadata": {},
     "output_type": "execute_result"
    }
   ],
   "source": [
    "sum([c > 3000 for c in foll_count])"
   ]
  },
  {
   "cell_type": "code",
   "execution_count": 222,
   "metadata": {},
   "outputs": [
    {
     "name": "stdout",
     "output_type": "stream",
     "text": [
      "[=================== ] 100%"
     ]
    }
   ],
   "source": [
    "cols = ['retweet_tweetid', 'tweetid']\n",
    "global t_rt_dict\n",
    "t_rt_dict = defaultdict()\n",
    "def f(chunk):\n",
    "    for rt_id, t_id in zip(chunk['tweetid'], chunk['retweet_tweetid']):\n",
    "        if t_id == t_id and rt_id == rt_id:\n",
    "            t_rt_dict[int(t_id)] = int(rt_id)\n",
    "        \n",
    "\n",
    "parse(f, 100000, cols = cols, test_bool = False)    "
   ]
  },
  {
   "cell_type": "code",
   "execution_count": 227,
   "metadata": {},
   "outputs": [],
   "source": [
    "from collections import Counter\n",
    "rt_count = Counter(t_rt_dict.values())"
   ]
  },
  {
   "cell_type": "code",
   "execution_count": 238,
   "metadata": {},
   "outputs": [
    {
     "data": {
      "text/plain": [
       "[(877917212119416832, 877920066204876801),\n",
       " (577485402124111872, 577490527299457024),\n",
       " (596514222684524544, 596522768109346816),\n",
       " (665522169724739584, 665533110633799680),\n",
       " (570982880706490368, 571061673160790016),\n",
       " (499126024211533824, 499129492028547073),\n",
       " (559043828242731008, 559048006557659136),\n",
       " (560404771367292928, 560410339725307904),\n",
       " (595333029335343104, 595345056548130816),\n",
       " (631210828142931968, 631396089921433600),\n",
       " (567611373467623424, 567617561022697472),\n",
       " (586420809486307328, 586431241265614849),\n",
       " (668883202090639360, 668895953546559488),\n",
       " (594304015795617792, 594313359421497344),\n",
       " (584370963304882176, 584376239877652480),\n",
       " (668780474249175040, 668789501179904000),\n",
       " (563647663804268544, 563649907534614529),\n",
       " (665305644447244288, 665316892026867712),\n",
       " (677247097717043200, 677260332323241985),\n",
       " (644515988889800704, 644524087847559168),\n",
       " (592421691717988352, 592430800022413313),\n",
       " (628967569668579328, 628976636818522113),\n",
       " (514646923316580352, 514698268086124545),\n",
       " (594256475658129408, 594273115888287744),\n",
       " (606513583946612736, 606529343746129920),\n",
       " (652600164834803712, 652622704294629376),\n",
       " (666955356032081920, 666967467902808069),\n",
       " (598721996764098560, 598733776097832960),\n",
       " (567777414684897280, 567785858229874688),\n",
       " (591118783776956416, 591132636212551680),\n",
       " (680554998539907072, 680566888481566720),\n",
       " (563662239127719936, 563664196186177536),\n",
       " (671686113480867840, 671686686867369984),\n",
       " (800870363425030144, 800878536894672896),\n",
       " (820202831726735360, 820207183841337344),\n",
       " (845460210445541376, 845544366579957760),\n",
       " (855934951027552256, 855939084203814916),\n",
       " (822196437438103552, 822200544555110401),\n",
       " (825754920951373824, 825759861791137792),\n",
       " (855507659071606784, 855511758483603456),\n",
       " (784070148374212608, 784082692488908800),\n",
       " (703220343897399296, 703233506579771392),\n",
       " (851999615788371968, 852003579871215616),\n",
       " (510044373346553856, 510052508837109760),\n",
       " (655430801220349952, 655431751045525504),\n",
       " (585820103553454080, 585822863934017536),\n",
       " (637912545722920960, 637931264952172545),\n",
       " (562302036872802304, 562309529556512768),\n",
       " (595367565712437248, 595380449842733057),\n",
       " (663774732769239040, 663787086894469120),\n",
       " (659191677396086784, 659206218049810432),\n",
       " (674643853316661248, 674652818607882240),\n",
       " (590599318547144704, 590614177322029056),\n",
       " (589128458392875008, 589139078702092288),\n",
       " (677420440445394944, 677430931507052544),\n",
       " (591522909597892608, 591535010706018304),\n",
       " (575886784267087872, 575891574544072704),\n",
       " (623198806268596224, 623208622361845761),\n",
       " (756505784779993088, 756515829559222273),\n",
       " (786933341316608000, 787294225142513664),\n",
       " (582200876028313600, 582203278693400576),\n",
       " (646230379804790784, 646245888004894720),\n",
       " (669052866338820096, 669061060679323648),\n",
       " (677755303027474432, 677763603399766016),\n",
       " (681495035028877312, 681509588215181314),\n",
       " (653197612552687616, 653319728199368704),\n",
       " (684796511411122176, 684800908794830848),\n",
       " (686238129414631424, 686247156743680001),\n",
       " (663673198798598144, 663674094316036096),\n",
       " (523889729222488064, 523895141132943360),\n",
       " (485067857038815232, 485075805203341312),\n",
       " (525310845451255808, 525314985493553153),\n",
       " (682988181231382528, 682995132287692800),\n",
       " (762667259001204736, 762682084435587072),\n",
       " (777866572572553216, 777870316336930817),\n",
       " (761102127401799680, 761138885107650560),\n",
       " (804615747410546688, 804617140288557057),\n",
       " (772713149480984576, 772756142355312640),\n",
       " (805787496843972608, 805793744066842624),\n",
       " (641592736991342592, 641594304037842944),\n",
       " (677044865004347392, 677053937439088644),\n",
       " (531379603974414336, 531380297418678272),\n",
       " (853820405072764928, 853830927507640321),\n",
       " (785885274911940608, 785897094213021696),\n",
       " (815482227844935680, 815486405254246400),\n",
       " (815241006065000448, 815252767166136320),\n",
       " (560789671157198848, 560802054550335488),\n",
       " (489915973915668480, 489916993957822465),\n",
       " (523186739699929088, 523195026227351552),\n",
       " (489114754297102336, 489115242119856129),\n",
       " (676100946032787456, 676113216934707200),\n",
       " (570839101546614784, 570842768614010880),\n",
       " (576744675400249344, 576746706768936960),\n",
       " (639363706002931712, 639375456723144705),\n",
       " (579653231141212160, 579657340024176642),\n",
       " (808297027654352896, 808297682984910848),\n",
       " (841606866316742656, 841607500931584000),\n",
       " (812601812175953920, 812607899113496576),\n",
       " (813168478698041344, 813195967256203264),\n",
       " (803721629314363392, 803722337552101376)]"
      ]
     },
     "execution_count": 238,
     "metadata": {},
     "output_type": "execute_result"
    }
   ],
   "source": [
    "list(t_rt_dict.items())[:100]"
   ]
  },
  {
   "cell_type": "code",
   "execution_count": 269,
   "metadata": {},
   "outputs": [
    {
     "name": "stdout",
     "output_type": "stream",
     "text": [
      "[=================== ] 100%"
     ]
    }
   ],
   "source": [
    "cols = ['retweet_tweetid']\n",
    "global rt_ids_list\n",
    "global rt_ids_set\n",
    "global rt_ids_count\n",
    "rt_ids_count = defaultdict(int)\n",
    "rt_ids_list = []\n",
    "rt_ids_set = set()\n",
    "\n",
    "def f(chunk):\n",
    "    #rt_ids_set = rt_ids_set.union(chunk['retweet_tweetid'])\n",
    "    for rt_id in chunk['retweet_tweetid']:\n",
    "        if rt_id == rt_id:\n",
    "            rt_id = int(rt_id)\n",
    "            rt_ids_set.add(rt_id)\n",
    "            rt_ids_list.append(rt_id)\n",
    "            rt_ids_count[rt_id] += 1\n",
    "\n",
    "parse(f, 100000, cols = cols, test_bool = False)  "
   ]
  },
  {
   "cell_type": "code",
   "execution_count": 266,
   "metadata": {},
   "outputs": [
    {
     "data": {
      "text/plain": [
       "1607343"
      ]
     },
     "execution_count": 266,
     "metadata": {},
     "output_type": "execute_result"
    }
   ],
   "source": [
    "len(rt_ids_list) - len(rt_ids_set)"
   ]
  },
  {
   "cell_type": "code",
   "execution_count": 267,
   "metadata": {},
   "outputs": [
    {
     "data": {
      "text/plain": [
       "(1725841, 3333184)"
      ]
     },
     "execution_count": 267,
     "metadata": {},
     "output_type": "execute_result"
    }
   ],
   "source": [
    "len(rt_ids_set), len(rt_ids_list)"
   ]
  },
  {
   "cell_type": "code",
   "execution_count": 279,
   "metadata": {},
   "outputs": [],
   "source": [
    "# the values are the number of tweets that were retweeted key times\n",
    "# keys is how often the retweet was retweeted\n",
    "\n",
    "rt_count = Counter(rt_ids_count.values())"
   ]
  },
  {
   "cell_type": "code",
   "execution_count": 287,
   "metadata": {},
   "outputs": [
    {
     "data": {
      "text/plain": [
       "(array([1.366476e+06, 2.423370e+05, 7.909500e+04, 1.879800e+04,\n",
       "        8.470000e+03, 3.046000e+03, 2.016000e+03, 1.349000e+03,\n",
       "        1.416000e+03]),\n",
       " array([ 0.        ,  2.22222222,  4.44444444,  6.66666667,  8.88888889,\n",
       "        11.11111111, 13.33333333, 15.55555556, 17.77777778, 20.        ]),\n",
       " <a list of 9 Patch objects>)"
      ]
     },
     "execution_count": 287,
     "metadata": {},
     "output_type": "execute_result"
    },
    {
     "data": {
      "image/png": "[encoded data removed]",
      "text/plain": [
       "<Figure size 432x288 with 1 Axes>"
      ]
     },
     "metadata": {
      "needs_background": "light"
     },
     "output_type": "display_data"
    }
   ],
   "source": [
    "c_bins = np.linspace(0, 20, 10)\n",
    "plt.hist(rt_ids_count.values(), bins = c_bins)"
   ]
  },
  {
   "cell_type": "code",
   "execution_count": 296,
   "metadata": {},
   "outputs": [
    {
     "data": {
      "text/plain": [
       "2"
      ]
     },
     "execution_count": 296,
     "metadata": {},
     "output_type": "execute_result"
    }
   ],
   "source": [
    "sum( True for retw_count in rt_ids_count.values() if retw_count > 600)"
   ]
  },
  {
   "cell_type": "code",
   "execution_count": 322,
   "metadata": {},
   "outputs": [],
   "source": [
    "import networkx as nx"
   ]
  },
  {
   "cell_type": "code",
   "execution_count": null,
   "metadata": {},
   "outputs": [
    {
     "name": "stdout",
     "output_type": "stream",
     "text": [
      "[=                   ] 8%"
     ]
    }
   ],
   "source": [
    "global G\n",
    "G = nx.Graph()\n",
    "hashtag_set = set()\n",
    "def f(chunk):\n",
    "    for uid, fc in zip(chunk['userid'], chunk['follower_count']):\n",
    "        if fc > 500:\n",
    "            G.add_node(uid)\n",
    "            \n",
    "parse(f, 40000,cols = ['userid', 'follower_count'], test_bool = False)    "
   ]
  },
  {
   "cell_type": "code",
   "execution_count": null,
   "metadata": {},
   "outputs": [],
   "source": [
    "global nset\n",
    "nset = set(G.nodes())"
   ]
  },
  {
   "cell_type": "code",
   "execution_count": null,
   "metadata": {},
   "outputs": [],
   "source": [
    "len(G.nodes())"
   ]
  },
  {
   "cell_type": "code",
   "execution_count": null,
   "metadata": {},
   "outputs": [],
   "source": [
    "cols = [\"in_reply_to_userid\", \"userid\"]\n",
    "\n",
    "global id_rep_id\n",
    "id_rep_id = defaultdict(int)\n",
    "\n",
    "def f(chunk):\n",
    "    #rt_ids_set = rt_ids_set.union(chunk['retweet_tweetid'])\n",
    "    for uid, rid in zip(chunk['userid'], chunk['in_reply_to_userid']):\n",
    "        if rid in nset and uid in nset:\n",
    "            id_rep_id[(uid, rid)] += 1\n",
    "            \n",
    "\n",
    "parse(f, 100000, cols = cols, test_bool = False)   "
   ]
  },
  {
   "cell_type": "code",
   "execution_count": null,
   "metadata": {},
   "outputs": [],
   "source": [
    "len(id_rep_id)"
   ]
  },
  {
   "cell_type": "code",
   "execution_count": null,
   "metadata": {},
   "outputs": [],
   "source": [
    "for e,w in id_rep_id.items():\n",
    "    G.add_edge(e[0], e[1], weight = w)"
   ]
  },
  {
   "cell_type": "code",
   "execution_count": null,
   "metadata": {},
   "outputs": [],
   "source": []
  },
  {
   "cell_type": "code",
   "execution_count": null,
   "metadata": {},
   "outputs": [],
   "source": [
    "sG = nx.subgraph(G, [n for n,d in G.degree() if d > 0])"
   ]
  },
  {
   "cell_type": "code",
   "execution_count": null,
   "metadata": {},
   "outputs": [],
   "source": [
    "nx.draw(sG, pos =  nx.spring_layout(sG), node_size = 3)"
   ]
  },
  {
   "cell_type": "code",
   "execution_count": null,
   "metadata": {},
   "outputs": [],
   "source": []
  }
 ],
 "metadata": {
  "kernelspec": {
   "display_name": "Python [default]",
   "language": "python",
   "name": "python3"
  },
  "language_info": {
   "codemirror_mode": {
    "name": "ipython",
    "version": 3
   },
   "file_extension": ".py",
   "mimetype": "text/x-python",
   "name": "python",
   "nbconvert_exporter": "python",
   "pygments_lexer": "ipython3",
   "version": "3.6.6"
  }
 },
 "nbformat": 4,
 "nbformat_minor": 2
}
